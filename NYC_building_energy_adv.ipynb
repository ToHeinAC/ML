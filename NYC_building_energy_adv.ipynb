{
 "cells": [
  {
   "cell_type": "code",
   "execution_count": 1,
   "metadata": {},
   "outputs": [
    {
     "name": "stdout",
     "output_type": "stream",
     "text": [
      "./data/nyc_benchmarking_disclosure_2017_consumption_data.xlsx\n",
      "./data/scotch_review.csv\n"
     ]
    },
    {
     "name": "stderr",
     "output_type": "stream",
     "text": [
      "/opt/conda/lib/python3.7/site-packages/ipykernel_launcher.py:46: TqdmDeprecationWarning: This function will be removed in tqdm==5.0.0\n",
      "Please use `tqdm.notebook.tqdm` instead of `tqdm.tqdm_notebook`\n"
     ]
    },
    {
     "data": {
      "application/vnd.jupyter.widget-view+json": {
       "model_id": "c6e1cb04a3b04a4ea5abe7de5b1dd4be",
       "version_major": 2,
       "version_minor": 0
      },
      "text/plain": [
       "HBox(children=(FloatProgress(value=1.0, bar_style='info', max=1.0), HTML(value='')))"
      ]
     },
     "metadata": {},
     "output_type": "display_data"
    },
    {
     "name": "stderr",
     "output_type": "stream",
     "text": [
      "/opt/conda/lib/python3.7/site-packages/tqdm/std.py:658: FutureWarning: The Panel class is removed from pandas. Accessing it from the top-level namespace will also be removed in the next version\n",
      "  from pandas import Panel\n"
     ]
    }
   ],
   "source": [
    "import numpy as np\n",
    "import pandas as pd \n",
    "\n",
    "# Python ≥3.5 is required\n",
    "import sys\n",
    "assert sys.version_info >= (3, 5)\n",
    "\n",
    "# Scikit-Learn ≥0.20 is required\n",
    "import sklearn\n",
    "assert sklearn.__version__ >= \"0.20\"\n",
    "\n",
    "import os\n",
    "for dirname, _, filenames in os.walk('./data'):\n",
    "    for filename in filenames:\n",
    "        print(os.path.join(dirname, filename))\n",
    "\n",
    "\n",
    "import seaborn as sns\n",
    "\n",
    "import matplotlib as mpl\n",
    "import matplotlib.pyplot as plt\n",
    "mpl.rc('axes', labelsize=14)\n",
    "mpl.rc('xtick', labelsize=12)\n",
    "mpl.rc('ytick', labelsize=12)\n",
    "\n",
    "# Where to save the figures\n",
    "PROJECT_ROOT_DIR = \".\"\n",
    "os.path.join(PROJECT_ROOT_DIR)\n",
    "IMAGES_PATH = os.path.join(PROJECT_ROOT_DIR, \"images\")\n",
    "CLEAREDDATA_PATH = os.path.join(PROJECT_ROOT_DIR, \"cleareddata\")\n",
    "os.makedirs(IMAGES_PATH, exist_ok=True)\n",
    "os.makedirs(CLEAREDDATA_PATH, exist_ok=True)\n",
    "\n",
    "def save_fig(fig_id, tight_layout=True, fig_extension=\"png\", resolution=300):\n",
    "    path = os.path.join(IMAGES_PATH, fig_id + \".\" + fig_extension)\n",
    "    print(\"Saving figure\", fig_id)\n",
    "    if tight_layout:\n",
    "        plt.tight_layout()\n",
    "    plt.savefig(path, format=fig_extension, dpi=resolution)\n",
    "\n",
    "# Ignore useless warnings (see SciPy issue #5998)\n",
    "import warnings\n",
    "warnings.filterwarnings(action=\"ignore\", message=\"^internal gelsd\")\n",
    "\n",
    "from tqdm import tqdm, tqdm_notebook\n",
    "tqdm_notebook().pandas()\n",
    "\n",
    "from pipe_classes import *"
   ]
  },
  {
   "cell_type": "code",
   "execution_count": 2,
   "metadata": {},
   "outputs": [
    {
     "name": "stdout",
     "output_type": "stream",
     "text": [
      "\n"
     ]
    }
   ],
   "source": [
    "data = pd.read_excel(PROJECT_ROOT_DIR+'/data/nyc_benchmarking_disclosure_2017_consumption_data.xlsx','Information and Metrics')"
   ]
  },
  {
   "cell_type": "code",
   "execution_count": 3,
   "metadata": {},
   "outputs": [],
   "source": [
    "data = data.replace({'Not Available': np.nan})"
   ]
  },
  {
   "cell_type": "code",
   "execution_count": 4,
   "metadata": {},
   "outputs": [
    {
     "name": "stdout",
     "output_type": "stream",
     "text": [
      "Your selected dataframe has 60 columns.\n",
      "There are 43 columns that have missing values.\n"
     ]
    },
    {
     "data": {
      "text/html": [
       "<div>\n",
       "<style scoped>\n",
       "    .dataframe tbody tr th:only-of-type {\n",
       "        vertical-align: middle;\n",
       "    }\n",
       "\n",
       "    .dataframe tbody tr th {\n",
       "        vertical-align: top;\n",
       "    }\n",
       "\n",
       "    .dataframe thead th {\n",
       "        text-align: right;\n",
       "    }\n",
       "</style>\n",
       "<table border=\"1\" class=\"dataframe\">\n",
       "  <thead>\n",
       "    <tr style=\"text-align: right;\">\n",
       "      <th></th>\n",
       "      <th>Missing Values</th>\n",
       "      <th>% of Total Values</th>\n",
       "    </tr>\n",
       "  </thead>\n",
       "  <tbody>\n",
       "    <tr>\n",
       "      <th>Propane Use (kBtu)</th>\n",
       "      <td>34354</td>\n",
       "      <td>100.0</td>\n",
       "    </tr>\n",
       "    <tr>\n",
       "      <th>District Hot Water Use (kBtu)</th>\n",
       "      <td>34347</td>\n",
       "      <td>100.0</td>\n",
       "    </tr>\n",
       "    <tr>\n",
       "      <th>District Chilled Water Use (kBtu)</th>\n",
       "      <td>34325</td>\n",
       "      <td>99.9</td>\n",
       "    </tr>\n",
       "    <tr>\n",
       "      <th>Fuel Oil #1 Use (kBtu)</th>\n",
       "      <td>34319</td>\n",
       "      <td>99.9</td>\n",
       "    </tr>\n",
       "    <tr>\n",
       "      <th>Diesel #2 Use (kBtu)</th>\n",
       "      <td>34285</td>\n",
       "      <td>99.8</td>\n",
       "    </tr>\n",
       "    <tr>\n",
       "      <th>Address 2 (self-reported)</th>\n",
       "      <td>33928</td>\n",
       "      <td>98.8</td>\n",
       "    </tr>\n",
       "    <tr>\n",
       "      <th>Fuel Oil #5 &amp; 6 Use (kBtu)</th>\n",
       "      <td>33871</td>\n",
       "      <td>98.6</td>\n",
       "    </tr>\n",
       "    <tr>\n",
       "      <th>District Steam Use (kBtu)</th>\n",
       "      <td>32787</td>\n",
       "      <td>95.4</td>\n",
       "    </tr>\n",
       "    <tr>\n",
       "      <th>Parent Property Name</th>\n",
       "      <td>32632</td>\n",
       "      <td>95.0</td>\n",
       "    </tr>\n",
       "    <tr>\n",
       "      <th>Parent Property Id</th>\n",
       "      <td>32632</td>\n",
       "      <td>95.0</td>\n",
       "    </tr>\n",
       "    <tr>\n",
       "      <th>Fuel Oil #4 Use (kBtu)</th>\n",
       "      <td>31977</td>\n",
       "      <td>93.1</td>\n",
       "    </tr>\n",
       "    <tr>\n",
       "      <th>Annual Maximum Demand (kW)</th>\n",
       "      <td>31972</td>\n",
       "      <td>93.1</td>\n",
       "    </tr>\n",
       "    <tr>\n",
       "      <th>Annual Maximum Demand (MM/YYYY)</th>\n",
       "      <td>31972</td>\n",
       "      <td>93.1</td>\n",
       "    </tr>\n",
       "    <tr>\n",
       "      <th>3rd Largest Property Use Type</th>\n",
       "      <td>31905</td>\n",
       "      <td>92.9</td>\n",
       "    </tr>\n",
       "    <tr>\n",
       "      <th>3rd Largest Property Use Type - Gross Floor Area (ft²)</th>\n",
       "      <td>31905</td>\n",
       "      <td>92.9</td>\n",
       "    </tr>\n",
       "    <tr>\n",
       "      <th>Fuel Oil #2 Use (kBtu)</th>\n",
       "      <td>28691</td>\n",
       "      <td>83.5</td>\n",
       "    </tr>\n",
       "    <tr>\n",
       "      <th>2nd Largest Property Use - Gross Floor Area (ft²)</th>\n",
       "      <td>27129</td>\n",
       "      <td>79.0</td>\n",
       "    </tr>\n",
       "    <tr>\n",
       "      <th>2nd Largest Property Use Type</th>\n",
       "      <td>27129</td>\n",
       "      <td>79.0</td>\n",
       "    </tr>\n",
       "    <tr>\n",
       "      <th>Metered Areas  (Water)</th>\n",
       "      <td>19809</td>\n",
       "      <td>57.7</td>\n",
       "    </tr>\n",
       "    <tr>\n",
       "      <th>Water Use Intensity (All Water Sources) (gal/ft²)</th>\n",
       "      <td>16084</td>\n",
       "      <td>46.8</td>\n",
       "    </tr>\n",
       "    <tr>\n",
       "      <th>Water Use (All Water Sources) (kgal)</th>\n",
       "      <td>16075</td>\n",
       "      <td>46.8</td>\n",
       "    </tr>\n",
       "    <tr>\n",
       "      <th>ENERGY STAR Score</th>\n",
       "      <td>8901</td>\n",
       "      <td>25.9</td>\n",
       "    </tr>\n",
       "    <tr>\n",
       "      <th>Weather Normalized Site Natural Gas Intensity (therms/ft²)</th>\n",
       "      <td>6313</td>\n",
       "      <td>18.4</td>\n",
       "    </tr>\n",
       "    <tr>\n",
       "      <th>Weather Normalized Site Natural Gas Use (therms)</th>\n",
       "      <td>6308</td>\n",
       "      <td>18.4</td>\n",
       "    </tr>\n",
       "    <tr>\n",
       "      <th>Weather Normalized Site EUI (kBtu/ft²)</th>\n",
       "      <td>5795</td>\n",
       "      <td>16.9</td>\n",
       "    </tr>\n",
       "    <tr>\n",
       "      <th>Weather Normalized Source EUI (kBtu/ft²)</th>\n",
       "      <td>5795</td>\n",
       "      <td>16.9</td>\n",
       "    </tr>\n",
       "    <tr>\n",
       "      <th>Natural Gas Use (kBtu)</th>\n",
       "      <td>5536</td>\n",
       "      <td>16.1</td>\n",
       "    </tr>\n",
       "    <tr>\n",
       "      <th>Weather Normalized Site Electricity Intensity (kWh/ft²)</th>\n",
       "      <td>3354</td>\n",
       "      <td>9.8</td>\n",
       "    </tr>\n",
       "    <tr>\n",
       "      <th>Weather Normalized Site Electricity (kWh)</th>\n",
       "      <td>3342</td>\n",
       "      <td>9.7</td>\n",
       "    </tr>\n",
       "    <tr>\n",
       "      <th>Electricity Use - Grid Purchase (kBtu)</th>\n",
       "      <td>2779</td>\n",
       "      <td>8.1</td>\n",
       "    </tr>\n",
       "    <tr>\n",
       "      <th>Electricity Use - Grid Purchase (kWh)</th>\n",
       "      <td>2779</td>\n",
       "      <td>8.1</td>\n",
       "    </tr>\n",
       "    <tr>\n",
       "      <th>Metered Areas (Energy)</th>\n",
       "      <td>2645</td>\n",
       "      <td>7.7</td>\n",
       "    </tr>\n",
       "    <tr>\n",
       "      <th>Source EUI (kBtu/ft²)</th>\n",
       "      <td>2467</td>\n",
       "      <td>7.2</td>\n",
       "    </tr>\n",
       "    <tr>\n",
       "      <th>Site EUI (kBtu/ft²)</th>\n",
       "      <td>2467</td>\n",
       "      <td>7.2</td>\n",
       "    </tr>\n",
       "    <tr>\n",
       "      <th>Total GHG Emissions (Metric Tons CO2e)</th>\n",
       "      <td>1398</td>\n",
       "      <td>4.1</td>\n",
       "    </tr>\n",
       "    <tr>\n",
       "      <th>Indirect GHG Emissions (Metric Tons CO2e)</th>\n",
       "      <td>1267</td>\n",
       "      <td>3.7</td>\n",
       "    </tr>\n",
       "    <tr>\n",
       "      <th>Direct GHG Emissions (Metric Tons CO2e)</th>\n",
       "      <td>1239</td>\n",
       "      <td>3.6</td>\n",
       "    </tr>\n",
       "    <tr>\n",
       "      <th>NYC Building Identification Number (BIN)</th>\n",
       "      <td>1232</td>\n",
       "      <td>3.6</td>\n",
       "    </tr>\n",
       "    <tr>\n",
       "      <th>BBL - 10 digits</th>\n",
       "      <td>730</td>\n",
       "      <td>2.1</td>\n",
       "    </tr>\n",
       "    <tr>\n",
       "      <th>NYC Borough, Block and Lot (BBL) self-reported</th>\n",
       "      <td>729</td>\n",
       "      <td>2.1</td>\n",
       "    </tr>\n",
       "    <tr>\n",
       "      <th>Largest Property Use Type - Gross Floor Area (ft²)</th>\n",
       "      <td>32</td>\n",
       "      <td>0.1</td>\n",
       "    </tr>\n",
       "    <tr>\n",
       "      <th>Largest Property Use Type</th>\n",
       "      <td>32</td>\n",
       "      <td>0.1</td>\n",
       "    </tr>\n",
       "    <tr>\n",
       "      <th>List of All Property Use Types at Property</th>\n",
       "      <td>13</td>\n",
       "      <td>0.0</td>\n",
       "    </tr>\n",
       "  </tbody>\n",
       "</table>\n",
       "</div>"
      ],
      "text/plain": [
       "                                                    Missing Values  \\\n",
       "Propane Use (kBtu)                                           34354   \n",
       "District Hot Water Use (kBtu)                                34347   \n",
       "District Chilled Water Use (kBtu)                            34325   \n",
       "Fuel Oil #1 Use (kBtu)                                       34319   \n",
       "Diesel #2 Use (kBtu)                                         34285   \n",
       "Address 2 (self-reported)                                    33928   \n",
       "Fuel Oil #5 & 6 Use (kBtu)                                   33871   \n",
       "District Steam Use (kBtu)                                    32787   \n",
       "Parent Property Name                                         32632   \n",
       "Parent Property Id                                           32632   \n",
       "Fuel Oil #4 Use (kBtu)                                       31977   \n",
       "Annual Maximum Demand (kW)                                   31972   \n",
       "Annual Maximum Demand (MM/YYYY)                              31972   \n",
       "3rd Largest Property Use Type                                31905   \n",
       "3rd Largest Property Use Type - Gross Floor Are...           31905   \n",
       "Fuel Oil #2 Use (kBtu)                                       28691   \n",
       "2nd Largest Property Use - Gross Floor Area (ft²)            27129   \n",
       "2nd Largest Property Use Type                                27129   \n",
       "Metered Areas  (Water)                                       19809   \n",
       "Water Use Intensity (All Water Sources) (gal/ft²)            16084   \n",
       "Water Use (All Water Sources) (kgal)                         16075   \n",
       "ENERGY STAR Score                                             8901   \n",
       "Weather Normalized Site Natural Gas Intensity (...            6313   \n",
       "Weather Normalized Site Natural Gas Use (therms)              6308   \n",
       "Weather Normalized Site EUI (kBtu/ft²)                        5795   \n",
       "Weather Normalized Source EUI (kBtu/ft²)                      5795   \n",
       "Natural Gas Use (kBtu)                                        5536   \n",
       "Weather Normalized Site Electricity Intensity (...            3354   \n",
       "Weather Normalized Site Electricity (kWh)                     3342   \n",
       "Electricity Use - Grid Purchase (kBtu)                        2779   \n",
       "Electricity Use - Grid Purchase (kWh)                         2779   \n",
       "Metered Areas (Energy)                                        2645   \n",
       "Source EUI (kBtu/ft²)                                         2467   \n",
       "Site EUI (kBtu/ft²)                                           2467   \n",
       "Total GHG Emissions (Metric Tons CO2e)                        1398   \n",
       "Indirect GHG Emissions (Metric Tons CO2e)                     1267   \n",
       "Direct GHG Emissions (Metric Tons CO2e)                       1239   \n",
       "NYC Building Identification Number (BIN)                      1232   \n",
       "BBL - 10 digits                                                730   \n",
       "NYC Borough, Block and Lot (BBL) self-reported                 729   \n",
       "Largest Property Use Type - Gross Floor Area (ft²)              32   \n",
       "Largest Property Use Type                                       32   \n",
       "List of All Property Use Types at Property                      13   \n",
       "\n",
       "                                                    % of Total Values  \n",
       "Propane Use (kBtu)                                              100.0  \n",
       "District Hot Water Use (kBtu)                                   100.0  \n",
       "District Chilled Water Use (kBtu)                                99.9  \n",
       "Fuel Oil #1 Use (kBtu)                                           99.9  \n",
       "Diesel #2 Use (kBtu)                                             99.8  \n",
       "Address 2 (self-reported)                                        98.8  \n",
       "Fuel Oil #5 & 6 Use (kBtu)                                       98.6  \n",
       "District Steam Use (kBtu)                                        95.4  \n",
       "Parent Property Name                                             95.0  \n",
       "Parent Property Id                                               95.0  \n",
       "Fuel Oil #4 Use (kBtu)                                           93.1  \n",
       "Annual Maximum Demand (kW)                                       93.1  \n",
       "Annual Maximum Demand (MM/YYYY)                                  93.1  \n",
       "3rd Largest Property Use Type                                    92.9  \n",
       "3rd Largest Property Use Type - Gross Floor Are...               92.9  \n",
       "Fuel Oil #2 Use (kBtu)                                           83.5  \n",
       "2nd Largest Property Use - Gross Floor Area (ft²)                79.0  \n",
       "2nd Largest Property Use Type                                    79.0  \n",
       "Metered Areas  (Water)                                           57.7  \n",
       "Water Use Intensity (All Water Sources) (gal/ft²)                46.8  \n",
       "Water Use (All Water Sources) (kgal)                             46.8  \n",
       "ENERGY STAR Score                                                25.9  \n",
       "Weather Normalized Site Natural Gas Intensity (...               18.4  \n",
       "Weather Normalized Site Natural Gas Use (therms)                 18.4  \n",
       "Weather Normalized Site EUI (kBtu/ft²)                           16.9  \n",
       "Weather Normalized Source EUI (kBtu/ft²)                         16.9  \n",
       "Natural Gas Use (kBtu)                                           16.1  \n",
       "Weather Normalized Site Electricity Intensity (...                9.8  \n",
       "Weather Normalized Site Electricity (kWh)                         9.7  \n",
       "Electricity Use - Grid Purchase (kBtu)                            8.1  \n",
       "Electricity Use - Grid Purchase (kWh)                             8.1  \n",
       "Metered Areas (Energy)                                            7.7  \n",
       "Source EUI (kBtu/ft²)                                             7.2  \n",
       "Site EUI (kBtu/ft²)                                               7.2  \n",
       "Total GHG Emissions (Metric Tons CO2e)                            4.1  \n",
       "Indirect GHG Emissions (Metric Tons CO2e)                         3.7  \n",
       "Direct GHG Emissions (Metric Tons CO2e)                           3.6  \n",
       "NYC Building Identification Number (BIN)                          3.6  \n",
       "BBL - 10 digits                                                   2.1  \n",
       "NYC Borough, Block and Lot (BBL) self-reported                    2.1  \n",
       "Largest Property Use Type - Gross Floor Area (ft²)                0.1  \n",
       "Largest Property Use Type                                         0.1  \n",
       "List of All Property Use Types at Property                        0.0  "
      ]
     },
     "execution_count": 4,
     "metadata": {},
     "output_type": "execute_result"
    }
   ],
   "source": [
    "missing_values_table(data)"
   ]
  },
  {
   "cell_type": "code",
   "execution_count": 5,
   "metadata": {},
   "outputs": [
    {
     "data": {
      "text/plain": [
       "Index(['Property Name', 'Parent Property Id', 'Parent Property Name',\n",
       "       'NYC Borough, Block and Lot (BBL) self-reported',\n",
       "       'NYC Building Identification Number (BIN)', 'Address 1 (self-reported)',\n",
       "       'Address 2 (self-reported)', 'Postal Code', 'Street Number',\n",
       "       'Street Name', 'Borough', 'DOF Gross Floor Area (ft²)',\n",
       "       'Primary Property Type - Self Selected',\n",
       "       'List of All Property Use Types at Property',\n",
       "       'Largest Property Use Type', '2nd Largest Property Use Type',\n",
       "       '3rd Largest Property Use Type', 'Metered Areas (Energy)',\n",
       "       'Metered Areas  (Water)', 'Annual Maximum Demand (MM/YYYY)',\n",
       "       'Water Required?', 'Generation Date',\n",
       "       'DOF Benchmarking Submission Status'],\n",
       "      dtype='object')"
      ]
     },
     "execution_count": 5,
     "metadata": {},
     "output_type": "execute_result"
    }
   ],
   "source": [
    "data.select_dtypes(exclude=['number']).keys()"
   ]
  },
  {
   "cell_type": "code",
   "execution_count": 6,
   "metadata": {},
   "outputs": [
    {
     "name": "stdout",
     "output_type": "stream",
     "text": [
      "Your selected dataframe has 60 columns.\n",
      "There are 43 columns that have missing values.\n",
      "By the remove percentage criterion 50, we may remove 19 columns.\n"
     ]
    },
    {
     "name": "stderr",
     "output_type": "stream",
     "text": [
      "/notebooks/ML/pipe_classes.py:47: SettingWithCopyWarning: \n",
      "A value is trying to be set on a copy of a slice from a DataFrame.\n",
      "Try using .loc[row_indexer,col_indexer] = value instead\n",
      "\n",
      "See the caveats in the documentation: https://pandas.pydata.org/pandas-docs/stable/user_guide/indexing.html#returning-a-view-versus-a-copy\n",
      "  numeric_subset['sqrt_' + col] = np.sqrt(numeric_subset[col])\n",
      "/notebooks/ML/pipe_classes.py:48: SettingWithCopyWarning: \n",
      "A value is trying to be set on a copy of a slice from a DataFrame.\n",
      "Try using .loc[row_indexer,col_indexer] = value instead\n",
      "\n",
      "See the caveats in the documentation: https://pandas.pydata.org/pandas-docs/stable/user_guide/indexing.html#returning-a-view-versus-a-copy\n",
      "  numeric_subset['log_' + col] = np.log(numeric_subset[col])\n",
      "/opt/conda/lib/python3.7/site-packages/pandas/core/series.py:679: RuntimeWarning: divide by zero encountered in log\n",
      "  result = getattr(ufunc, method)(*inputs, **kwargs)\n",
      "/opt/conda/lib/python3.7/site-packages/pandas/core/series.py:679: RuntimeWarning: invalid value encountered in sqrt\n",
      "  result = getattr(ufunc, method)(*inputs, **kwargs)\n",
      "/opt/conda/lib/python3.7/site-packages/pandas/core/series.py:679: RuntimeWarning: invalid value encountered in log\n",
      "  result = getattr(ufunc, method)(*inputs, **kwargs)\n",
      "/opt/conda/lib/python3.7/site-packages/pandas/core/frame.py:4172: SettingWithCopyWarning: \n",
      "A value is trying to be set on a copy of a slice from a DataFrame\n",
      "\n",
      "See the caveats in the documentation: https://pandas.pydata.org/pandas-docs/stable/user_guide/indexing.html#returning-a-view-versus-a-copy\n",
      "  method=method,\n"
     ]
    },
    {
     "name": "stdout",
     "output_type": "stream",
     "text": [
      "(0, 83)\n",
      "(24724, 83)\n",
      "               Overall  Stratified    Random  Rand. %error  Strat. %error\n",
      "(0.0, 20.0]   0.196449    0.196414  0.195201     -0.635245      -0.017647\n",
      "(20.0, 45.0]  0.197177    0.197223  0.199110      0.980561       0.023400\n",
      "(45.0, 70.0]  0.223184    0.223106  0.220005     -1.424188      -0.034945\n",
      "(70.0, 90.0]  0.198269    0.198301  0.199110      0.424365       0.016412\n",
      "(90.0, inf]   0.184922    0.184956  0.186573      0.893172       0.018375\n"
     ]
    },
    {
     "name": "stderr",
     "output_type": "stream",
     "text": [
      "/opt/conda/lib/python3.7/site-packages/pandas/core/frame.py:3997: SettingWithCopyWarning: \n",
      "A value is trying to be set on a copy of a slice from a DataFrame\n",
      "\n",
      "See the caveats in the documentation: https://pandas.pydata.org/pandas-docs/stable/user_guide/indexing.html#returning-a-view-versus-a-copy\n",
      "  errors=errors,\n"
     ]
    }
   ],
   "source": [
    "from sklearn.pipeline import Pipeline\n",
    "\n",
    "from sklearn.impute import SimpleImputer\n",
    "from sklearn.preprocessing import StandardScaler\n",
    "\n",
    "reg_target=\"ENERGY STAR Score\"\n",
    "spec_cols=['Water Use (All Water Sources) (kgal)','log_Water Use (All Water Sources) (kgal)','Largest Property Use Type - Gross Floor Area (ft²)','index','Order','Property Id']\n",
    "\n",
    "prep_pipeline = Pipeline([\n",
    "        ('deleter', MissVals_Deleter()),\n",
    "        ('outremover', Outliers_Remover(['Site EUI (kBtu/ft²)'])),\n",
    "        ('feature_adderencoder', Feature_AdderEncoder(reg_target,['Borough', 'Largest Property Use Type'])),\n",
    "        ('collinearfeatures_remover', CollinearFeatures_Remover(reg_target)),\n",
    "        ('speccolumn_remover', SpecColumn_Remover(spec_cols)),\n",
    "        ('strattraintest_splitter', StratTrainTest_Splitter(reg_target, [0., 20., 45., 70., 90., np.inf], [1, 2, 3, 4, 5], verbose = True)),\n",
    "    ])\n",
    "\n",
    "num_pipeline = Pipeline([\n",
    "        ('imputer', SimpleImputer(missing_values=np.nan, strategy=\"median\")),\n",
    "        ('std_scaler', StandardScaler()),\n",
    "    ])\n",
    "\n",
    "X, X_test, y, y_test = prep_pipeline.fit_transform(data)"
   ]
  },
  {
   "cell_type": "code",
   "execution_count": 7,
   "metadata": {},
   "outputs": [
    {
     "data": {
      "text/plain": [
       "(17306, 82)"
      ]
     },
     "execution_count": 7,
     "metadata": {},
     "output_type": "execute_result"
    }
   ],
   "source": [
    "X.shape"
   ]
  },
  {
   "cell_type": "code",
   "execution_count": 8,
   "metadata": {},
   "outputs": [
    {
     "data": {
      "text/plain": [
       "(7418, 82)"
      ]
     },
     "execution_count": 8,
     "metadata": {},
     "output_type": "execute_result"
    }
   ],
   "source": [
    "X_test.shape"
   ]
  },
  {
   "cell_type": "code",
   "execution_count": 9,
   "metadata": {},
   "outputs": [
    {
     "data": {
      "text/plain": [
       "(17306, 1)"
      ]
     },
     "execution_count": 9,
     "metadata": {},
     "output_type": "execute_result"
    }
   ],
   "source": [
    "y.shape"
   ]
  },
  {
   "cell_type": "code",
   "execution_count": 10,
   "metadata": {},
   "outputs": [
    {
     "data": {
      "text/plain": [
       "(7418, 1)"
      ]
     },
     "execution_count": 10,
     "metadata": {},
     "output_type": "execute_result"
    }
   ],
   "source": [
    "y_test.shape"
   ]
  },
  {
   "cell_type": "code",
   "execution_count": 11,
   "metadata": {},
   "outputs": [
    {
     "data": {
      "text/plain": [
       "array([[-1.0869268 , -0.19386517,  1.2861418 , ..., -0.01075082,\n",
       "        -0.0672868 ,  0.        ],\n",
       "       [ 0.6945068 , -0.4356981 ,  0.14188102, ..., -0.01075082,\n",
       "        -0.0672868 ,  0.        ],\n",
       "       [ 0.6919314 , -0.39547807, -0.74809957, ..., -0.01075082,\n",
       "        -0.0672868 ,  0.        ],\n",
       "       ...,\n",
       "       [-1.0905083 ,  1.0099249 ,  1.731132  , ..., -0.01075082,\n",
       "        -0.0672868 ,  0.        ],\n",
       "       [-1.0788532 ,  0.00401228,  0.45973125, ..., -0.01075082,\n",
       "        -0.0672868 ,  0.        ],\n",
       "       [-1.0838028 , -0.4256431 , -1.0341649 , ..., -0.01075082,\n",
       "        -0.0672868 ,  0.        ]], dtype=float32)"
      ]
     },
     "execution_count": 11,
     "metadata": {},
     "output_type": "execute_result"
    }
   ],
   "source": [
    "X = num_pipeline.fit_transform(X)\n",
    "X"
   ]
  },
  {
   "cell_type": "code",
   "execution_count": 12,
   "metadata": {},
   "outputs": [
    {
     "data": {
      "text/plain": [
       "array([[-1.0936925 , -0.20781262, -0.6964435 , ..., -0.02322757,\n",
       "        -0.06478088,  0.        ],\n",
       "       [ 0.62156785, -0.48219168, -1.0157301 , ..., -0.02322757,\n",
       "        -0.06478088,  0.        ],\n",
       "       [-0.22004174, -0.4518129 , -0.9518728 , ..., -0.02322757,\n",
       "        -0.06478088,  0.        ],\n",
       "       ...,\n",
       "       [-1.0978166 , -0.27056694,  1.3789197 , ..., -0.02322757,\n",
       "        -0.06478088,  0.        ],\n",
       "       [-1.0970192 ,  0.91672206, -0.9838015 , ..., -0.02322757,\n",
       "        -0.06478088,  0.        ],\n",
       "       [-1.0919884 , -0.081163  , -0.1217275 , ..., -0.02322757,\n",
       "        -0.06478088,  0.        ]], dtype=float32)"
      ]
     },
     "execution_count": 12,
     "metadata": {},
     "output_type": "execute_result"
    }
   ],
   "source": [
    "X_test = num_pipeline.fit_transform(X_test)\n",
    "X_test"
   ]
  }
 ],
 "metadata": {
  "kernelspec": {
   "display_name": "Python 3",
   "language": "python",
   "name": "python3"
  },
  "language_info": {
   "codemirror_mode": {
    "name": "ipython",
    "version": 3
   },
   "file_extension": ".py",
   "mimetype": "text/x-python",
   "name": "python",
   "nbconvert_exporter": "python",
   "pygments_lexer": "ipython3",
   "version": "3.7.6"
  }
 },
 "nbformat": 4,
 "nbformat_minor": 4
}
