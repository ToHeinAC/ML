{
 "cells": [
  {
   "cell_type": "code",
   "execution_count": 1,
   "metadata": {},
   "outputs": [
    {
     "name": "stdout",
     "output_type": "stream",
     "text": [
      "./data/scotch_review.csv\n",
      "./data/nyc_benchmarking_disclosure_2017_consumption_data.xlsx\n"
     ]
    },
    {
     "name": "stderr",
     "output_type": "stream",
     "text": [
      "/opt/conda/lib/python3.7/site-packages/ipykernel_launcher.py:46: TqdmDeprecationWarning: This function will be removed in tqdm==5.0.0\n",
      "Please use `tqdm.notebook.tqdm` instead of `tqdm.tqdm_notebook`\n"
     ]
    },
    {
     "data": {
      "application/vnd.jupyter.widget-view+json": {
       "model_id": "3768779b79714965bac353ab17363454",
       "version_major": 2,
       "version_minor": 0
      },
      "text/plain": [
       "HBox(children=(FloatProgress(value=1.0, bar_style='info', max=1.0), HTML(value='')))"
      ]
     },
     "metadata": {},
     "output_type": "display_data"
    },
    {
     "name": "stdout",
     "output_type": "stream",
     "text": [
      "\n"
     ]
    },
    {
     "name": "stderr",
     "output_type": "stream",
     "text": [
      "/opt/conda/lib/python3.7/site-packages/tqdm/std.py:654: FutureWarning: The Panel class is removed from pandas. Accessing it from the top-level namespace will also be removed in the next version\n",
      "  from pandas import Panel\n"
     ]
    }
   ],
   "source": [
    "import numpy as np\n",
    "import pandas as pd \n",
    "\n",
    "# Python ≥3.5 is required\n",
    "import sys\n",
    "assert sys.version_info >= (3, 5)\n",
    "\n",
    "# Scikit-Learn ≥0.20 is required\n",
    "import sklearn\n",
    "assert sklearn.__version__ >= \"0.20\"\n",
    "\n",
    "import os\n",
    "for dirname, _, filenames in os.walk('./data'):\n",
    "    for filename in filenames:\n",
    "        print(os.path.join(dirname, filename))\n",
    "\n",
    "\n",
    "import seaborn as sns\n",
    "\n",
    "import matplotlib as mpl\n",
    "import matplotlib.pyplot as plt\n",
    "mpl.rc('axes', labelsize=14)\n",
    "mpl.rc('xtick', labelsize=12)\n",
    "mpl.rc('ytick', labelsize=12)\n",
    "\n",
    "# Where to save the figures\n",
    "PROJECT_ROOT_DIR = \".\"\n",
    "os.path.join(PROJECT_ROOT_DIR)\n",
    "IMAGES_PATH = os.path.join(PROJECT_ROOT_DIR, \"images\")\n",
    "CLEAREDDATA_PATH = os.path.join(PROJECT_ROOT_DIR, \"cleareddata\")\n",
    "os.makedirs(IMAGES_PATH, exist_ok=True)\n",
    "os.makedirs(CLEAREDDATA_PATH, exist_ok=True)\n",
    "\n",
    "def save_fig(fig_id, tight_layout=True, fig_extension=\"png\", resolution=300):\n",
    "    path = os.path.join(IMAGES_PATH, fig_id + \".\" + fig_extension)\n",
    "    print(\"Saving figure\", fig_id)\n",
    "    if tight_layout:\n",
    "        plt.tight_layout()\n",
    "    plt.savefig(path, format=fig_extension, dpi=resolution)\n",
    "\n",
    "# Ignore useless warnings (see SciPy issue #5998)\n",
    "import warnings\n",
    "warnings.filterwarnings(action=\"ignore\", message=\"^internal gelsd\")\n",
    "\n",
    "from tqdm import tqdm, tqdm_notebook\n",
    "tqdm_notebook().pandas()\n",
    "\n",
    "from pipe_classes import *"
   ]
  },
  {
   "cell_type": "code",
   "execution_count": 2,
   "metadata": {},
   "outputs": [],
   "source": [
    "data = pd.read_excel(PROJECT_ROOT_DIR+'/data/nyc_benchmarking_disclosure_2017_consumption_data.xlsx','Information and Metrics')"
   ]
  },
  {
   "cell_type": "code",
   "execution_count": 3,
   "metadata": {},
   "outputs": [],
   "source": [
    "data = data.replace({'Not Available': np.nan})"
   ]
  },
  {
   "cell_type": "code",
   "execution_count": 4,
   "metadata": {},
   "outputs": [
    {
     "data": {
      "text/plain": [
       "Index(['Property Name', 'Parent Property Id', 'Parent Property Name',\n",
       "       'NYC Borough, Block and Lot (BBL) self-reported',\n",
       "       'NYC Building Identification Number (BIN)', 'Address 1 (self-reported)',\n",
       "       'Address 2 (self-reported)', 'Postal Code', 'Street Number',\n",
       "       'Street Name', 'Borough', 'DOF Gross Floor Area (ft²)',\n",
       "       'Primary Property Type - Self Selected',\n",
       "       'List of All Property Use Types at Property',\n",
       "       'Largest Property Use Type', '2nd Largest Property Use Type',\n",
       "       '3rd Largest Property Use Type', 'Metered Areas (Energy)',\n",
       "       'Metered Areas  (Water)', 'Annual Maximum Demand (MM/YYYY)',\n",
       "       'Water Required?', 'Generation Date',\n",
       "       'DOF Benchmarking Submission Status'],\n",
       "      dtype='object')"
      ]
     },
     "execution_count": 4,
     "metadata": {},
     "output_type": "execute_result"
    }
   ],
   "source": [
    "data.select_dtypes(exclude=['number']).keys()"
   ]
  },
  {
   "cell_type": "code",
   "execution_count": 5,
   "metadata": {},
   "outputs": [
    {
     "data": {
      "text/plain": [
       "37"
      ]
     },
     "execution_count": 5,
     "metadata": {},
     "output_type": "execute_result"
    }
   ],
   "source": [
    "data.select_dtypes('number').keys().size"
   ]
  },
  {
   "cell_type": "markdown",
   "metadata": {},
   "source": [
    "### First exercise: Ridge and SVR without PCA or collinear features remover and without the sqrt-log feature adder"
   ]
  },
  {
   "cell_type": "code",
   "execution_count": 6,
   "metadata": {},
   "outputs": [
    {
     "name": "stdout",
     "output_type": "stream",
     "text": [
      "Your selected dataframe has 60 columns.\n",
      "There are 43 columns that have missing values.\n",
      "By the remove percentage criterion 50, we may remove 19 columns.\n"
     ]
    },
    {
     "name": "stderr",
     "output_type": "stream",
     "text": [
      "/opt/conda/lib/python3.7/site-packages/pandas/core/frame.py:4278: SettingWithCopyWarning: \n",
      "A value is trying to be set on a copy of a slice from a DataFrame\n",
      "\n",
      "See the caveats in the documentation: http://pandas.pydata.org/pandas-docs/stable/user_guide/indexing.html#returning-a-view-versus-a-copy\n",
      "  method=method,\n"
     ]
    },
    {
     "name": "stdout",
     "output_type": "stream",
     "text": [
      "(0, 96)\n",
      "(24724, 96)\n",
      "               Overall  Stratified    Random  Rand. %error  Strat. %error\n",
      "(0.0, 20.0]   0.196449    0.196414  0.195201     -0.635245      -0.017647\n",
      "(20.0, 45.0]  0.197177    0.197223  0.199110      0.980561       0.023400\n",
      "(45.0, 70.0]  0.223184    0.223106  0.220005     -1.424188      -0.034945\n",
      "(70.0, 90.0]  0.198269    0.198301  0.199110      0.424365       0.016412\n",
      "(90.0, inf]   0.184922    0.184956  0.186573      0.893172       0.018375\n"
     ]
    },
    {
     "name": "stderr",
     "output_type": "stream",
     "text": [
      "/opt/conda/lib/python3.7/site-packages/pandas/core/frame.py:4117: SettingWithCopyWarning: \n",
      "A value is trying to be set on a copy of a slice from a DataFrame\n",
      "\n",
      "See the caveats in the documentation: http://pandas.pydata.org/pandas-docs/stable/user_guide/indexing.html#returning-a-view-versus-a-copy\n",
      "  errors=errors,\n"
     ]
    }
   ],
   "source": [
    "from sklearn.pipeline import Pipeline\n",
    "\n",
    "from sklearn.impute import SimpleImputer\n",
    "from sklearn.preprocessing import StandardScaler\n",
    "\n",
    "reg_target=\"ENERGY STAR Score\"\n",
    "spec_cols=['Water Use (All Water Sources) (kgal)','Largest Property Use Type - Gross Floor Area (ft²)','index','Order','Property Id']\n",
    "\n",
    "prep_pipeline = Pipeline([\n",
    "        ('deleter', MissVals_Deleter()),\n",
    "        ('outremover', Outliers_Remover(['Site EUI (kBtu/ft²)'])),\n",
    "        ('feature_encoder', Feature_Encoder(reg_target,['Borough', 'Largest Property Use Type'])),\n",
    "        ('speccolumn_remover', SpecColumn_Remover(spec_cols)),\n",
    "        ('strattraintest_splitter', StratTrainTest_Splitter(reg_target, [0., 20., 45., 70., 90., np.inf], [1, 2, 3, 4, 5], verbose = True)),\n",
    "    ])\n",
    "\n",
    "num_pipeline = Pipeline([\n",
    "        ('imputer', SimpleImputer(missing_values=np.nan, strategy=\"median\")),\n",
    "        ('std_scaler', StandardScaler()),\n",
    "    ])\n",
    "\n",
    "X, X_test, y, y_test = prep_pipeline.fit_transform(data)"
   ]
  },
  {
   "cell_type": "code",
   "execution_count": 7,
   "metadata": {},
   "outputs": [
    {
     "data": {
      "text/plain": [
       "(17306, 95)"
      ]
     },
     "execution_count": 7,
     "metadata": {},
     "output_type": "execute_result"
    }
   ],
   "source": [
    "X = num_pipeline.fit_transform(X)\n",
    "X_test = num_pipeline.fit_transform(X_test)\n",
    "X.shape"
   ]
  },
  {
   "cell_type": "code",
   "execution_count": 8,
   "metadata": {},
   "outputs": [],
   "source": [
    "def results_display(reg, X, X_test, y, y_test):\n",
    "    from sklearn.metrics import mean_squared_error, r2_score\n",
    "    from timeit import default_timer as timer\n",
    "    start = timer()\n",
    "    reg.fit(X, y)\n",
    "    #train set\n",
    "    X_pred = reg.predict(X)\n",
    "    X_rmse = np.sqrt(mean_squared_error(y, X_pred))\n",
    "    X_R2 = r2_score(y, X_pred)\n",
    "    #test set\n",
    "    X_test_pred = reg.predict(X_test)\n",
    "    X_test_rmse = np.sqrt(mean_squared_error(y_test, X_test_pred))\n",
    "    X_test_R2 = r2_score(y_test, X_test_pred)\n",
    "    end = timer()\n",
    "    print(str(reg))\n",
    "    print('Train set: Regressor name, RMSE, R2')\n",
    "    print(reg.__class__.__name__, round(X_rmse,3), round(X_R2,3))\n",
    "    print('Test set: Regressor name, RMSE, R2')\n",
    "    print(reg.__class__.__name__, round(X_test_rmse,3), round(X_test_R2,3))\n",
    "    print('Time consumption [s]: ', round((end - start),3))\n",
    "    print('---------------------------------------------------------')"
   ]
  },
  {
   "cell_type": "code",
   "execution_count": 9,
   "metadata": {},
   "outputs": [],
   "source": [
    "from sklearn.linear_model import Ridge\n",
    "base_reg=Ridge(alpha=1.0, fit_intercept=True, normalize=False, copy_X=True, max_iter=None, tol=0.001, solver='auto', random_state=None)\n",
    "\n",
    "from sklearn.svm import SVR\n",
    "base_reg2=SVR(kernel='rbf', degree=3, gamma='scale', coef0=0.0, tol=0.001, C=1.0, epsilon=0.1, shrinking=True, cache_size=200, verbose=False, max_iter=-1)\n",
    "\n",
    "from sklearn.model_selection import GridSearchCV"
   ]
  },
  {
   "cell_type": "code",
   "execution_count": 10,
   "metadata": {},
   "outputs": [],
   "source": [
    "linear=SVR(kernel='linear', degree=3, gamma='scale', coef0=0.0, tol=0.001, C=1.0, epsilon=0.1, shrinking=True, cache_size=200, verbose=False, max_iter=-1)"
   ]
  },
  {
   "cell_type": "code",
   "execution_count": 11,
   "metadata": {},
   "outputs": [
    {
     "name": "stderr",
     "output_type": "stream",
     "text": [
      "/opt/conda/lib/python3.7/site-packages/sklearn/utils/validation.py:724: DataConversionWarning: A column-vector y was passed when a 1d array was expected. Please change the shape of y to (n_samples, ), for example using ravel().\n",
      "  y = column_or_1d(y, warn=True)\n"
     ]
    },
    {
     "name": "stdout",
     "output_type": "stream",
     "text": [
      "SVR(C=1.0, cache_size=200, coef0=0.0, degree=3, epsilon=0.1, gamma='scale',\n",
      "    kernel='linear', max_iter=-1, shrinking=True, tol=0.001, verbose=False)\n",
      "Train set: Regressor name, RMSE, R2\n",
      "SVR 17.543 0.699\n",
      "Test set: Regressor name, RMSE, R2\n",
      "SVR 18.052 0.679\n",
      "Time consumption [s]:  360.486\n",
      "---------------------------------------------------------\n"
     ]
    }
   ],
   "source": [
    "results_display(linear, X, X_test, y, y_test)"
   ]
  },
  {
   "cell_type": "code",
   "execution_count": 12,
   "metadata": {},
   "outputs": [],
   "source": [
    "from sklearn.metrics import mean_squared_error, r2_score\n",
    "from timeit import default_timer as timer\n",
    "\n",
    "def full_analyzer(X, X_test, y, y_test):\n",
    "    start = timer()\n",
    "\n",
    "    param_grid = [\n",
    "        # try 20 (5×4) combinations of hyperparameters\n",
    "        {'alpha': [1.0, 0.1, 0.01, 0.001, 0.0001], 'max_iter': [200, 500, 1000, 2000]},\n",
    "        ]\n",
    "\n",
    "    ridge_reg = Ridge(fit_intercept=True, random_state=4711)\n",
    "    # train across 5 folds, that's a total of 20*5=100 rounds of training \n",
    "    grid_search = GridSearchCV(ridge_reg, param_grid, cv=5,\n",
    "                               scoring='neg_mean_squared_error',\n",
    "                               return_train_score=True)\n",
    "    grid_search.fit(X, y)\n",
    "    grid_best_est=grid_search.best_estimator_\n",
    "    print('Best estimator: '+str(grid_best_est))\n",
    "    print('Best params: %s'%grid_search.best_params_)\n",
    "    print('---------------------------------------------------------------------')\n",
    "    cvres = grid_search.cv_results_\n",
    "    for mean_score, params in zip(cvres[\"mean_test_score\"], cvres[\"params\"]):\n",
    "        print(np.sqrt(-mean_score), params)\n",
    "\n",
    "    print('---------------------------------------------------------------------')\n",
    "    results_display(grid_best_est, X, X_test, y, y_test)\n",
    "    print('---------------------------------------------------------------------')\n",
    "\n",
    "    param_grid = [\n",
    "        # try 2 combinations of hyperparameters\n",
    "        {'gamma': ['scale', 'auto']},\n",
    "        ]\n",
    " \n",
    "    svr_reg = SVR(kernel='rbf', degree=3, coef0=0.0, tol=0.001, C=1.0, epsilon=0.1, shrinking=True, cache_size=200, verbose=False, max_iter=10000)\n",
    "    # train across 5 folds, that's a total of 2*5=10 rounds of training \n",
    "    grid_search = GridSearchCV(svr_reg, param_grid, cv=5,\n",
    "                               scoring='neg_mean_squared_error',\n",
    "                               return_train_score=True)\n",
    "    grid_search.fit(X, y)\n",
    "    end = timer()\n",
    "    grid_best_est=grid_search.best_estimator_\n",
    "    print('Best estimator: '+str(grid_best_est))\n",
    "    print('Best params: %s'%grid_search.best_params_)\n",
    "    print('---------------------------------------------------------------------')\n",
    "    cvres = grid_search.cv_results_\n",
    "    for mean_score, params in zip(cvres[\"mean_test_score\"], cvres[\"params\"]):\n",
    "        print(np.sqrt(-mean_score), params)\n",
    "\n",
    "    print('---------------------------------------------------------------------')\n",
    "    results_display(grid_best_est, X, X_test, y, y_test)\n",
    "    print('Full time consumption [s]: ', round((end - start),3))\n",
    "    print('---------------------------------------------------------------------')"
   ]
  },
  {
   "cell_type": "code",
   "execution_count": 13,
   "metadata": {},
   "outputs": [
    {
     "name": "stdout",
     "output_type": "stream",
     "text": [
      "Best estimator: Ridge(alpha=1.0, copy_X=True, fit_intercept=True, max_iter=200, normalize=False,\n",
      "      random_state=4711, solver='auto', tol=0.001)\n",
      "Best params: {'alpha': 1.0, 'max_iter': 200}\n",
      "---------------------------------------------------------------------\n",
      "17.343897308434304 {'alpha': 1.0, 'max_iter': 200}\n",
      "17.343897308434304 {'alpha': 1.0, 'max_iter': 500}\n",
      "17.343897308434304 {'alpha': 1.0, 'max_iter': 1000}\n",
      "17.343897308434304 {'alpha': 1.0, 'max_iter': 2000}\n",
      "17.344629902747034 {'alpha': 0.1, 'max_iter': 200}\n",
      "17.344629902747034 {'alpha': 0.1, 'max_iter': 500}\n",
      "17.344629902747034 {'alpha': 0.1, 'max_iter': 1000}\n",
      "17.344629902747034 {'alpha': 0.1, 'max_iter': 2000}\n",
      "17.344839847362586 {'alpha': 0.01, 'max_iter': 200}\n",
      "17.344839847362586 {'alpha': 0.01, 'max_iter': 500}\n",
      "17.344839847362586 {'alpha': 0.01, 'max_iter': 1000}\n",
      "17.344839847362586 {'alpha': 0.01, 'max_iter': 2000}\n",
      "17.34486541022375 {'alpha': 0.001, 'max_iter': 200}\n",
      "17.34486541022375 {'alpha': 0.001, 'max_iter': 500}\n",
      "17.34486541022375 {'alpha': 0.001, 'max_iter': 1000}\n",
      "17.34486541022375 {'alpha': 0.001, 'max_iter': 2000}\n",
      "17.344868023162096 {'alpha': 0.0001, 'max_iter': 200}\n",
      "17.344868023162096 {'alpha': 0.0001, 'max_iter': 500}\n",
      "17.344868023162096 {'alpha': 0.0001, 'max_iter': 1000}\n",
      "17.344868023162096 {'alpha': 0.0001, 'max_iter': 2000}\n",
      "---------------------------------------------------------------------\n",
      "Ridge(alpha=1.0, copy_X=True, fit_intercept=True, max_iter=200, normalize=False,\n",
      "      random_state=4711, solver='auto', tol=0.001)\n",
      "Train set: Regressor name, RMSE, R2\n",
      "Ridge 17.276 0.708\n",
      "Test set: Regressor name, RMSE, R2\n",
      "Ridge 17.763 0.689\n",
      "Time consumption [s]:  0.032\n",
      "---------------------------------------------------------\n",
      "---------------------------------------------------------------------\n"
     ]
    },
    {
     "name": "stderr",
     "output_type": "stream",
     "text": [
      "/opt/conda/lib/python3.7/site-packages/sklearn/utils/validation.py:724: DataConversionWarning: A column-vector y was passed when a 1d array was expected. Please change the shape of y to (n_samples, ), for example using ravel().\n",
      "  y = column_or_1d(y, warn=True)\n",
      "/opt/conda/lib/python3.7/site-packages/sklearn/utils/validation.py:724: DataConversionWarning: A column-vector y was passed when a 1d array was expected. Please change the shape of y to (n_samples, ), for example using ravel().\n",
      "  y = column_or_1d(y, warn=True)\n",
      "/opt/conda/lib/python3.7/site-packages/sklearn/utils/validation.py:724: DataConversionWarning: A column-vector y was passed when a 1d array was expected. Please change the shape of y to (n_samples, ), for example using ravel().\n",
      "  y = column_or_1d(y, warn=True)\n",
      "/opt/conda/lib/python3.7/site-packages/sklearn/utils/validation.py:724: DataConversionWarning: A column-vector y was passed when a 1d array was expected. Please change the shape of y to (n_samples, ), for example using ravel().\n",
      "  y = column_or_1d(y, warn=True)\n",
      "/opt/conda/lib/python3.7/site-packages/sklearn/utils/validation.py:724: DataConversionWarning: A column-vector y was passed when a 1d array was expected. Please change the shape of y to (n_samples, ), for example using ravel().\n",
      "  y = column_or_1d(y, warn=True)\n",
      "/opt/conda/lib/python3.7/site-packages/sklearn/utils/validation.py:724: DataConversionWarning: A column-vector y was passed when a 1d array was expected. Please change the shape of y to (n_samples, ), for example using ravel().\n",
      "  y = column_or_1d(y, warn=True)\n",
      "/opt/conda/lib/python3.7/site-packages/sklearn/utils/validation.py:724: DataConversionWarning: A column-vector y was passed when a 1d array was expected. Please change the shape of y to (n_samples, ), for example using ravel().\n",
      "  y = column_or_1d(y, warn=True)\n",
      "/opt/conda/lib/python3.7/site-packages/sklearn/utils/validation.py:724: DataConversionWarning: A column-vector y was passed when a 1d array was expected. Please change the shape of y to (n_samples, ), for example using ravel().\n",
      "  y = column_or_1d(y, warn=True)\n",
      "/opt/conda/lib/python3.7/site-packages/sklearn/utils/validation.py:724: DataConversionWarning: A column-vector y was passed when a 1d array was expected. Please change the shape of y to (n_samples, ), for example using ravel().\n",
      "  y = column_or_1d(y, warn=True)\n",
      "/opt/conda/lib/python3.7/site-packages/sklearn/utils/validation.py:724: DataConversionWarning: A column-vector y was passed when a 1d array was expected. Please change the shape of y to (n_samples, ), for example using ravel().\n",
      "  y = column_or_1d(y, warn=True)\n",
      "/opt/conda/lib/python3.7/site-packages/sklearn/utils/validation.py:724: DataConversionWarning: A column-vector y was passed when a 1d array was expected. Please change the shape of y to (n_samples, ), for example using ravel().\n",
      "  y = column_or_1d(y, warn=True)\n"
     ]
    },
    {
     "name": "stdout",
     "output_type": "stream",
     "text": [
      "Best estimator: SVR(C=1.0, cache_size=200, coef0=0.0, degree=3, epsilon=0.1, gamma='scale',\n",
      "    kernel='rbf', max_iter=10000, shrinking=True, tol=0.001, verbose=False)\n",
      "Best params: {'gamma': 'scale'}\n",
      "---------------------------------------------------------------------\n",
      "15.174804764461774 {'gamma': 'scale'}\n",
      "15.513599389067934 {'gamma': 'auto'}\n",
      "---------------------------------------------------------------------\n"
     ]
    },
    {
     "name": "stderr",
     "output_type": "stream",
     "text": [
      "/opt/conda/lib/python3.7/site-packages/sklearn/utils/validation.py:724: DataConversionWarning: A column-vector y was passed when a 1d array was expected. Please change the shape of y to (n_samples, ), for example using ravel().\n",
      "  y = column_or_1d(y, warn=True)\n"
     ]
    },
    {
     "name": "stdout",
     "output_type": "stream",
     "text": [
      "SVR(C=1.0, cache_size=200, coef0=0.0, degree=3, epsilon=0.1, gamma='scale',\n",
      "    kernel='rbf', max_iter=10000, shrinking=True, tol=0.001, verbose=False)\n",
      "Train set: Regressor name, RMSE, R2\n",
      "SVR 14.85 0.784\n",
      "Test set: Regressor name, RMSE, R2\n",
      "SVR 15.253 0.771\n",
      "Time consumption [s]:  373.977\n",
      "---------------------------------------------------------\n",
      "Full time consumption [s]:  2370.869\n",
      "---------------------------------------------------------------------\n"
     ]
    }
   ],
   "source": [
    "full_analyzer(X, X_test, y, y_test)"
   ]
  },
  {
   "cell_type": "markdown",
   "metadata": {},
   "source": [
    "observations:\n",
    "- we have 95 features\n",
    "- Ridge is very fast, ~0.03s per run on ThinkPad Core i7\n",
    "- Ridge has R2 scores of ~71% on training set and ~69% on test set\n",
    "- SVR is very slow, ~400s per run on ThinkPad Core i7\n",
    "- SVR has R2 scores of ~78% on training set and ~77% on test set"
   ]
  },
  {
   "cell_type": "markdown",
   "metadata": {},
   "source": [
    "### Second exercise: Ridge  and SVR rbf with the sqrt-log feature adder"
   ]
  },
  {
   "cell_type": "code",
   "execution_count": 14,
   "metadata": {},
   "outputs": [
    {
     "name": "stdout",
     "output_type": "stream",
     "text": [
      "Your selected dataframe has 60 columns.\n",
      "There are 43 columns that have missing values.\n",
      "By the remove percentage criterion 50, we may remove 19 columns.\n"
     ]
    },
    {
     "name": "stderr",
     "output_type": "stream",
     "text": [
      "/notebooks/ML/pipe_classes.py:47: SettingWithCopyWarning: \n",
      "A value is trying to be set on a copy of a slice from a DataFrame.\n",
      "Try using .loc[row_indexer,col_indexer] = value instead\n",
      "\n",
      "See the caveats in the documentation: http://pandas.pydata.org/pandas-docs/stable/user_guide/indexing.html#returning-a-view-versus-a-copy\n",
      "  numeric_subset['sqrt_' + col] = np.sqrt(numeric_subset[col])\n",
      "/notebooks/ML/pipe_classes.py:48: SettingWithCopyWarning: \n",
      "A value is trying to be set on a copy of a slice from a DataFrame.\n",
      "Try using .loc[row_indexer,col_indexer] = value instead\n",
      "\n",
      "See the caveats in the documentation: http://pandas.pydata.org/pandas-docs/stable/user_guide/indexing.html#returning-a-view-versus-a-copy\n",
      "  numeric_subset['log_' + col] = np.log(numeric_subset[col])\n",
      "/opt/conda/lib/python3.7/site-packages/pandas/core/series.py:856: RuntimeWarning: divide by zero encountered in log\n",
      "  result = getattr(ufunc, method)(*inputs, **kwargs)\n",
      "/opt/conda/lib/python3.7/site-packages/pandas/core/series.py:856: RuntimeWarning: invalid value encountered in sqrt\n",
      "  result = getattr(ufunc, method)(*inputs, **kwargs)\n",
      "/opt/conda/lib/python3.7/site-packages/pandas/core/series.py:856: RuntimeWarning: invalid value encountered in log\n",
      "  result = getattr(ufunc, method)(*inputs, **kwargs)\n",
      "/opt/conda/lib/python3.7/site-packages/pandas/core/frame.py:4278: SettingWithCopyWarning: \n",
      "A value is trying to be set on a copy of a slice from a DataFrame\n",
      "\n",
      "See the caveats in the documentation: http://pandas.pydata.org/pandas-docs/stable/user_guide/indexing.html#returning-a-view-versus-a-copy\n",
      "  method=method,\n"
     ]
    },
    {
     "name": "stdout",
     "output_type": "stream",
     "text": [
      "(0, 143)\n",
      "(24724, 143)\n",
      "               Overall  Stratified    Random  Rand. %error  Strat. %error\n",
      "(0.0, 20.0]   0.196449    0.196414  0.195201     -0.635245      -0.017647\n",
      "(20.0, 45.0]  0.197177    0.197223  0.199110      0.980561       0.023400\n",
      "(45.0, 70.0]  0.223184    0.223106  0.220005     -1.424188      -0.034945\n",
      "(70.0, 90.0]  0.198269    0.198301  0.199110      0.424365       0.016412\n",
      "(90.0, inf]   0.184922    0.184956  0.186573      0.893172       0.018375\n"
     ]
    },
    {
     "name": "stderr",
     "output_type": "stream",
     "text": [
      "/opt/conda/lib/python3.7/site-packages/pandas/core/frame.py:4117: SettingWithCopyWarning: \n",
      "A value is trying to be set on a copy of a slice from a DataFrame\n",
      "\n",
      "See the caveats in the documentation: http://pandas.pydata.org/pandas-docs/stable/user_guide/indexing.html#returning-a-view-versus-a-copy\n",
      "  errors=errors,\n"
     ]
    }
   ],
   "source": [
    "spec_cols=['Water Use (All Water Sources) (kgal)','log_Water Use (All Water Sources) (kgal)','Largest Property Use Type - Gross Floor Area (ft²)','index','Order','Property Id']\n",
    "\n",
    "prep_pipeline = Pipeline([\n",
    "        ('deleter', MissVals_Deleter()),\n",
    "        ('outremover', Outliers_Remover(['Site EUI (kBtu/ft²)'])),\n",
    "        ('feature_encoder', Feature_AdderEncoder(reg_target,['Borough', 'Largest Property Use Type'])),\n",
    "        ('speccolumn_remover', SpecColumn_Remover(spec_cols)),\n",
    "        ('strattraintest_splitter', StratTrainTest_Splitter(reg_target, [0., 20., 45., 70., 90., np.inf], [1, 2, 3, 4, 5], verbose = True)),\n",
    "    ])\n",
    "\n",
    "num_pipeline = Pipeline([\n",
    "        ('imputer', SimpleImputer(missing_values=np.nan, strategy=\"median\")),\n",
    "        ('std_scaler', StandardScaler()),\n",
    "    ])\n",
    "\n",
    "X, X_test, y, y_test = prep_pipeline.fit_transform(data)"
   ]
  },
  {
   "cell_type": "code",
   "execution_count": 15,
   "metadata": {},
   "outputs": [
    {
     "data": {
      "text/plain": [
       "(17306, 142)"
      ]
     },
     "execution_count": 15,
     "metadata": {},
     "output_type": "execute_result"
    }
   ],
   "source": [
    "X = num_pipeline.fit_transform(X)\n",
    "X.shape"
   ]
  },
  {
   "cell_type": "code",
   "execution_count": 16,
   "metadata": {},
   "outputs": [],
   "source": [
    "X_test = num_pipeline.fit_transform(X_test)"
   ]
  },
  {
   "cell_type": "code",
   "execution_count": 18,
   "metadata": {},
   "outputs": [
    {
     "name": "stdout",
     "output_type": "stream",
     "text": [
      "Best estimator: Ridge(alpha=0.0001, copy_X=True, fit_intercept=True, max_iter=200,\n",
      "      normalize=False, random_state=4711, solver='auto', tol=0.001)\n",
      "Best params: {'alpha': 0.0001, 'max_iter': 200}\n",
      "---------------------------------------------------------------------\n",
      "16.113684468891513 {'alpha': 1.0, 'max_iter': 200}\n",
      "16.113684468891513 {'alpha': 1.0, 'max_iter': 500}\n",
      "16.113684468891513 {'alpha': 1.0, 'max_iter': 1000}\n",
      "16.113684468891513 {'alpha': 1.0, 'max_iter': 2000}\n",
      "16.113281033825793 {'alpha': 0.1, 'max_iter': 200}\n",
      "16.113281033825793 {'alpha': 0.1, 'max_iter': 500}\n",
      "16.113281033825793 {'alpha': 0.1, 'max_iter': 1000}\n",
      "16.113281033825793 {'alpha': 0.1, 'max_iter': 2000}\n",
      "16.115105050469133 {'alpha': 0.01, 'max_iter': 200}\n",
      "16.115105050469133 {'alpha': 0.01, 'max_iter': 500}\n",
      "16.115105050469133 {'alpha': 0.01, 'max_iter': 1000}\n",
      "16.115105050469133 {'alpha': 0.01, 'max_iter': 2000}\n",
      "16.114093472935753 {'alpha': 0.001, 'max_iter': 200}\n",
      "16.114093472935753 {'alpha': 0.001, 'max_iter': 500}\n",
      "16.114093472935753 {'alpha': 0.001, 'max_iter': 1000}\n",
      "16.114093472935753 {'alpha': 0.001, 'max_iter': 2000}\n",
      "16.10814758785829 {'alpha': 0.0001, 'max_iter': 200}\n",
      "16.10814758785829 {'alpha': 0.0001, 'max_iter': 500}\n",
      "16.10814758785829 {'alpha': 0.0001, 'max_iter': 1000}\n",
      "16.10814758785829 {'alpha': 0.0001, 'max_iter': 2000}\n",
      "---------------------------------------------------------------------\n",
      "Ridge(alpha=0.0001, copy_X=True, fit_intercept=True, max_iter=200,\n",
      "      normalize=False, random_state=4711, solver='auto', tol=0.001)\n",
      "Train set: Regressor name, RMSE, R2\n",
      "Ridge 15.966 0.751\n",
      "Test set: Regressor name, RMSE, R2\n",
      "Ridge 17.699 0.691\n",
      "Time consumption [s]:  0.044\n",
      "---------------------------------------------------------\n",
      "---------------------------------------------------------------------\n"
     ]
    },
    {
     "name": "stderr",
     "output_type": "stream",
     "text": [
      "/opt/conda/lib/python3.7/site-packages/sklearn/utils/validation.py:724: DataConversionWarning: A column-vector y was passed when a 1d array was expected. Please change the shape of y to (n_samples, ), for example using ravel().\n",
      "  y = column_or_1d(y, warn=True)\n",
      "/opt/conda/lib/python3.7/site-packages/sklearn/utils/validation.py:724: DataConversionWarning: A column-vector y was passed when a 1d array was expected. Please change the shape of y to (n_samples, ), for example using ravel().\n",
      "  y = column_or_1d(y, warn=True)\n",
      "/opt/conda/lib/python3.7/site-packages/sklearn/utils/validation.py:724: DataConversionWarning: A column-vector y was passed when a 1d array was expected. Please change the shape of y to (n_samples, ), for example using ravel().\n",
      "  y = column_or_1d(y, warn=True)\n",
      "/opt/conda/lib/python3.7/site-packages/sklearn/utils/validation.py:724: DataConversionWarning: A column-vector y was passed when a 1d array was expected. Please change the shape of y to (n_samples, ), for example using ravel().\n",
      "  y = column_or_1d(y, warn=True)\n",
      "/opt/conda/lib/python3.7/site-packages/sklearn/utils/validation.py:724: DataConversionWarning: A column-vector y was passed when a 1d array was expected. Please change the shape of y to (n_samples, ), for example using ravel().\n",
      "  y = column_or_1d(y, warn=True)\n",
      "/opt/conda/lib/python3.7/site-packages/sklearn/utils/validation.py:724: DataConversionWarning: A column-vector y was passed when a 1d array was expected. Please change the shape of y to (n_samples, ), for example using ravel().\n",
      "  y = column_or_1d(y, warn=True)\n"
     ]
    },
    {
     "name": "stdout",
     "output_type": "stream",
     "text": [
      "Best estimator: SVR(C=1.0, cache_size=200, coef0=0.0, degree=3, epsilon=0.1, gamma='scale',\n",
      "    kernel='rbf', max_iter=10000, shrinking=True, tol=0.001, verbose=False)\n",
      "Best params: {'gamma': 'scale'}\n",
      "---------------------------------------------------------------------\n",
      "14.611134324670523 {'gamma': 'scale'}\n",
      "---------------------------------------------------------------------\n"
     ]
    },
    {
     "name": "stderr",
     "output_type": "stream",
     "text": [
      "/opt/conda/lib/python3.7/site-packages/sklearn/utils/validation.py:724: DataConversionWarning: A column-vector y was passed when a 1d array was expected. Please change the shape of y to (n_samples, ), for example using ravel().\n",
      "  y = column_or_1d(y, warn=True)\n"
     ]
    },
    {
     "name": "stdout",
     "output_type": "stream",
     "text": [
      "SVR(C=1.0, cache_size=200, coef0=0.0, degree=3, epsilon=0.1, gamma='scale',\n",
      "    kernel='rbf', max_iter=10000, shrinking=True, tol=0.001, verbose=False)\n",
      "Train set: Regressor name, RMSE, R2\n",
      "SVR 14.223 0.802\n",
      "Test set: Regressor name, RMSE, R2\n",
      "SVR 14.598 0.79\n",
      "Time consumption [s]:  525.354\n",
      "---------------------------------------------------------\n",
      "Full time consumption [s]:  1785.489\n",
      "---------------------------------------------------------------------\n"
     ]
    }
   ],
   "source": [
    "start = timer()\n",
    "\n",
    "param_grid = [\n",
    "    # try 20 (5×4) combinations of hyperparameters\n",
    "    {'alpha': [1.0, 0.1, 0.01, 0.001, 0.0001], 'max_iter': [200, 500, 1000, 2000]},\n",
    "    ]\n",
    "\n",
    "ridge_reg = Ridge(fit_intercept=True, random_state=4711)\n",
    "# train across 5 folds, that's a total of 20*5=100 rounds of training \n",
    "grid_search = GridSearchCV(ridge_reg, param_grid, cv=5,\n",
    "                           scoring='neg_mean_squared_error',\n",
    "                           return_train_score=True)\n",
    "grid_search.fit(X, y)\n",
    "grid_best_est=grid_search.best_estimator_\n",
    "print('Best estimator: '+str(grid_best_est))\n",
    "print('Best params: %s'%grid_search.best_params_)\n",
    "print('---------------------------------------------------------------------')\n",
    "cvres = grid_search.cv_results_\n",
    "for mean_score, params in zip(cvres[\"mean_test_score\"], cvres[\"params\"]):\n",
    "    print(np.sqrt(-mean_score), params)\n",
    "\n",
    "print('---------------------------------------------------------------------')\n",
    "results_display(grid_best_est, X, X_test, y, y_test)\n",
    "print('---------------------------------------------------------------------')\n",
    "\n",
    "param_grid = [\n",
    "    # try 1 combination of hyperparameters ('scale' worked best)\n",
    "    {'gamma': ['scale']},\n",
    "    ]\n",
    "\n",
    "svr_reg = SVR(kernel='rbf', degree=3, coef0=0.0, tol=0.001, C=1.0, epsilon=0.1, shrinking=True, cache_size=200, verbose=False, max_iter=10000)\n",
    "# train across 5 folds, that's a total of 2*5=10 rounds of training \n",
    "grid_search = GridSearchCV(svr_reg, param_grid, cv=5,\n",
    "                           scoring='neg_mean_squared_error',\n",
    "                           return_train_score=True)\n",
    "grid_search.fit(X, y)\n",
    "end = timer()\n",
    "grid_best_est=grid_search.best_estimator_\n",
    "print('Best estimator: '+str(grid_best_est))\n",
    "print('Best params: %s'%grid_search.best_params_)\n",
    "print('---------------------------------------------------------------------')\n",
    "cvres = grid_search.cv_results_\n",
    "for mean_score, params in zip(cvres[\"mean_test_score\"], cvres[\"params\"]):\n",
    "    print(np.sqrt(-mean_score), params)\n",
    "\n",
    "print('---------------------------------------------------------------------')\n",
    "results_display(grid_best_est, X, X_test, y, y_test)\n",
    "print('Full time consumption [s]: ', round((end - start),3))\n",
    "print('---------------------------------------------------------------------')"
   ]
  },
  {
   "cell_type": "markdown",
   "metadata": {},
   "source": [
    "observations:\n",
    "- we have 142 features\n",
    "- Ridge is very fast, ~0.05s per run on ThinkPad Core i7\n",
    "- Ridge has R2 scores of ~75% (base: 71%) on training set and ~69% (base: 69%) on test set (why is there a larger discrepancy)\n",
    "- SVR is very slow, ~525s per run on ThinkPad Core i7\n",
    "- SVR has R2 scores of ~80% (base: 78%) on training set and ~79% (base: 77%) on test set"
   ]
  }
 ],
 "metadata": {
  "kernelspec": {
   "display_name": "Python 3",
   "language": "python",
   "name": "python3"
  },
  "language_info": {
   "codemirror_mode": {
    "name": "ipython",
    "version": 3
   },
   "file_extension": ".py",
   "mimetype": "text/x-python",
   "name": "python",
   "nbconvert_exporter": "python",
   "pygments_lexer": "ipython3",
   "version": "3.7.6"
  }
 },
 "nbformat": 4,
 "nbformat_minor": 2
}
