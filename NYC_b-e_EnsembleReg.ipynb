{
 "cells": [
  {
   "cell_type": "code",
   "execution_count": 1,
   "metadata": {},
   "outputs": [
    {
     "name": "stdout",
     "output_type": "stream",
     "text": [
      "./data/scotch_review.csv\n",
      "./data/nyc_benchmarking_disclosure_2017_consumption_data.xlsx\n"
     ]
    },
    {
     "name": "stderr",
     "output_type": "stream",
     "text": [
      "/opt/conda/lib/python3.7/site-packages/ipykernel_launcher.py:46: TqdmDeprecationWarning: This function will be removed in tqdm==5.0.0\n",
      "Please use `tqdm.notebook.tqdm` instead of `tqdm.tqdm_notebook`\n"
     ]
    },
    {
     "data": {
      "application/vnd.jupyter.widget-view+json": {
       "model_id": "3b43a23481584561b2fcb00eb134a195",
       "version_major": 2,
       "version_minor": 0
      },
      "text/plain": [
       "HBox(children=(FloatProgress(value=1.0, bar_style='info', max=1.0), HTML(value='')))"
      ]
     },
     "metadata": {},
     "output_type": "display_data"
    },
    {
     "name": "stdout",
     "output_type": "stream",
     "text": [
      "\n"
     ]
    },
    {
     "name": "stderr",
     "output_type": "stream",
     "text": [
      "/opt/conda/lib/python3.7/site-packages/tqdm/std.py:654: FutureWarning: The Panel class is removed from pandas. Accessing it from the top-level namespace will also be removed in the next version\n",
      "  from pandas import Panel\n"
     ]
    }
   ],
   "source": [
    "import numpy as np\n",
    "import pandas as pd \n",
    "\n",
    "# Python ≥3.5 is required\n",
    "import sys\n",
    "assert sys.version_info >= (3, 5)\n",
    "\n",
    "# Scikit-Learn ≥0.20 is required\n",
    "import sklearn\n",
    "assert sklearn.__version__ >= \"0.20\"\n",
    "\n",
    "import os\n",
    "for dirname, _, filenames in os.walk('./data'):\n",
    "    for filename in filenames:\n",
    "        print(os.path.join(dirname, filename))\n",
    "\n",
    "\n",
    "import seaborn as sns\n",
    "\n",
    "import matplotlib as mpl\n",
    "import matplotlib.pyplot as plt\n",
    "mpl.rc('axes', labelsize=14)\n",
    "mpl.rc('xtick', labelsize=12)\n",
    "mpl.rc('ytick', labelsize=12)\n",
    "\n",
    "# Where to save the figures\n",
    "PROJECT_ROOT_DIR = \".\"\n",
    "os.path.join(PROJECT_ROOT_DIR)\n",
    "IMAGES_PATH = os.path.join(PROJECT_ROOT_DIR, \"images\")\n",
    "CLEAREDDATA_PATH = os.path.join(PROJECT_ROOT_DIR, \"cleareddata\")\n",
    "os.makedirs(IMAGES_PATH, exist_ok=True)\n",
    "os.makedirs(CLEAREDDATA_PATH, exist_ok=True)\n",
    "\n",
    "def save_fig(fig_id, tight_layout=True, fig_extension=\"png\", resolution=300):\n",
    "    path = os.path.join(IMAGES_PATH, fig_id + \".\" + fig_extension)\n",
    "    print(\"Saving figure\", fig_id)\n",
    "    if tight_layout:\n",
    "        plt.tight_layout()\n",
    "    plt.savefig(path, format=fig_extension, dpi=resolution)\n",
    "\n",
    "# Ignore useless warnings (see SciPy issue #5998)\n",
    "import warnings\n",
    "warnings.filterwarnings(action=\"ignore\", message=\"^internal gelsd\")\n",
    "\n",
    "from tqdm import tqdm, tqdm_notebook\n",
    "tqdm_notebook().pandas()\n",
    "\n",
    "from pipe_classes import *"
   ]
  },
  {
   "cell_type": "code",
   "execution_count": 2,
   "metadata": {},
   "outputs": [],
   "source": [
    "data = pd.read_excel(PROJECT_ROOT_DIR+'/data/nyc_benchmarking_disclosure_2017_consumption_data.xlsx','Information and Metrics')"
   ]
  },
  {
   "cell_type": "code",
   "execution_count": 3,
   "metadata": {},
   "outputs": [],
   "source": [
    "data = data.replace({'Not Available': np.nan})"
   ]
  },
  {
   "cell_type": "code",
   "execution_count": 4,
   "metadata": {},
   "outputs": [
    {
     "data": {
      "text/plain": [
       "Index(['Property Name', 'Parent Property Id', 'Parent Property Name',\n",
       "       'NYC Borough, Block and Lot (BBL) self-reported',\n",
       "       'NYC Building Identification Number (BIN)', 'Address 1 (self-reported)',\n",
       "       'Address 2 (self-reported)', 'Postal Code', 'Street Number',\n",
       "       'Street Name', 'Borough', 'DOF Gross Floor Area (ft²)',\n",
       "       'Primary Property Type - Self Selected',\n",
       "       'List of All Property Use Types at Property',\n",
       "       'Largest Property Use Type', '2nd Largest Property Use Type',\n",
       "       '3rd Largest Property Use Type', 'Metered Areas (Energy)',\n",
       "       'Metered Areas  (Water)', 'Annual Maximum Demand (MM/YYYY)',\n",
       "       'Water Required?', 'Generation Date',\n",
       "       'DOF Benchmarking Submission Status'],\n",
       "      dtype='object')"
      ]
     },
     "execution_count": 4,
     "metadata": {},
     "output_type": "execute_result"
    }
   ],
   "source": [
    "data.select_dtypes(exclude=['number']).keys()"
   ]
  },
  {
   "cell_type": "code",
   "execution_count": 5,
   "metadata": {},
   "outputs": [
    {
     "data": {
      "text/plain": [
       "37"
      ]
     },
     "execution_count": 5,
     "metadata": {},
     "output_type": "execute_result"
    }
   ],
   "source": [
    "data.select_dtypes('number').keys().size"
   ]
  },
  {
   "cell_type": "markdown",
   "metadata": {},
   "source": [
    "### First exercise: Random Forrest without PCA or collinear features remover and without the sqrt-log feature adder"
   ]
  },
  {
   "cell_type": "code",
   "execution_count": 6,
   "metadata": {},
   "outputs": [
    {
     "name": "stdout",
     "output_type": "stream",
     "text": [
      "Your selected dataframe has 60 columns.\n",
      "There are 43 columns that have missing values.\n",
      "By the remove percentage criterion 50, we may remove 19 columns.\n"
     ]
    },
    {
     "name": "stderr",
     "output_type": "stream",
     "text": [
      "/opt/conda/lib/python3.7/site-packages/pandas/core/frame.py:4278: SettingWithCopyWarning: \n",
      "A value is trying to be set on a copy of a slice from a DataFrame\n",
      "\n",
      "See the caveats in the documentation: http://pandas.pydata.org/pandas-docs/stable/user_guide/indexing.html#returning-a-view-versus-a-copy\n",
      "  method=method,\n"
     ]
    },
    {
     "name": "stdout",
     "output_type": "stream",
     "text": [
      "(0, 96)\n",
      "(24724, 96)\n",
      "               Overall  Stratified    Random  Rand. %error  Strat. %error\n",
      "(0.0, 20.0]   0.196449    0.196414  0.195201     -0.635245      -0.017647\n",
      "(20.0, 45.0]  0.197177    0.197223  0.199110      0.980561       0.023400\n",
      "(45.0, 70.0]  0.223184    0.223106  0.220005     -1.424188      -0.034945\n",
      "(70.0, 90.0]  0.198269    0.198301  0.199110      0.424365       0.016412\n",
      "(90.0, inf]   0.184922    0.184956  0.186573      0.893172       0.018375\n"
     ]
    },
    {
     "name": "stderr",
     "output_type": "stream",
     "text": [
      "/opt/conda/lib/python3.7/site-packages/pandas/core/frame.py:4117: SettingWithCopyWarning: \n",
      "A value is trying to be set on a copy of a slice from a DataFrame\n",
      "\n",
      "See the caveats in the documentation: http://pandas.pydata.org/pandas-docs/stable/user_guide/indexing.html#returning-a-view-versus-a-copy\n",
      "  errors=errors,\n"
     ]
    }
   ],
   "source": [
    "from sklearn.pipeline import Pipeline\n",
    "\n",
    "from sklearn.impute import SimpleImputer\n",
    "from sklearn.preprocessing import StandardScaler\n",
    "\n",
    "reg_target=\"ENERGY STAR Score\"\n",
    "spec_cols=['Water Use (All Water Sources) (kgal)','Largest Property Use Type - Gross Floor Area (ft²)','index','Order','Property Id']\n",
    "\n",
    "prep_pipeline = Pipeline([\n",
    "        ('deleter', MissVals_Deleter()),\n",
    "        ('outremover', Outliers_Remover(['Site EUI (kBtu/ft²)'])),\n",
    "        ('feature_encoder', Feature_Encoder(reg_target,['Borough', 'Largest Property Use Type'])),\n",
    "        ('speccolumn_remover', SpecColumn_Remover(spec_cols)),\n",
    "        ('strattraintest_splitter', StratTrainTest_Splitter(reg_target, [0., 20., 45., 70., 90., np.inf], [1, 2, 3, 4, 5], verbose = True)),\n",
    "    ])\n",
    "\n",
    "num_pipeline = Pipeline([\n",
    "        ('imputer', SimpleImputer(missing_values=np.nan, strategy=\"median\")),\n",
    "        ('std_scaler', StandardScaler()),\n",
    "    ])\n",
    "\n",
    "X, X_test, y, y_test = prep_pipeline.fit_transform(data)"
   ]
  },
  {
   "cell_type": "code",
   "execution_count": 7,
   "metadata": {},
   "outputs": [
    {
     "data": {
      "text/plain": [
       "(17306, 95)"
      ]
     },
     "execution_count": 7,
     "metadata": {},
     "output_type": "execute_result"
    }
   ],
   "source": [
    "X = num_pipeline.fit_transform(X)\n",
    "X_test = num_pipeline.fit_transform(X_test)\n",
    "X.shape"
   ]
  },
  {
   "cell_type": "code",
   "execution_count": 8,
   "metadata": {},
   "outputs": [],
   "source": [
    "def results_display(reg, X, X_test, y, y_test):\n",
    "    from sklearn.metrics import mean_squared_error, r2_score\n",
    "    from timeit import default_timer as timer\n",
    "    start = timer()\n",
    "    reg.fit(X, y)\n",
    "    #train set\n",
    "    X_pred = reg.predict(X)\n",
    "    X_rmse = np.sqrt(mean_squared_error(y, X_pred))\n",
    "    X_R2 = r2_score(y, X_pred)\n",
    "    #test set\n",
    "    X_test_pred = reg.predict(X_test)\n",
    "    X_test_rmse = np.sqrt(mean_squared_error(y_test, X_test_pred))\n",
    "    X_test_R2 = r2_score(y_test, X_test_pred)\n",
    "    end = timer()\n",
    "    print(str(reg))\n",
    "    print('Train set: Regressor name, RMSE, R2')\n",
    "    print(reg.__class__.__name__, round(X_rmse,3), round(X_R2,3))\n",
    "    print('Test set: Regressor name, RMSE, R2')\n",
    "    print(reg.__class__.__name__, round(X_test_rmse,3), round(X_test_R2,3))\n",
    "    print('Time consumption [s]: ', round((end - start),3))\n",
    "    print('---------------------------------------------------------')"
   ]
  },
  {
   "cell_type": "code",
   "execution_count": 9,
   "metadata": {},
   "outputs": [],
   "source": [
    "from sklearn.ensemble import RandomForestRegressor\n",
    "base_reg=RandomForestRegressor(n_estimators=100, criterion='mse', max_depth=None, min_samples_split=2, min_samples_leaf=1, min_weight_fraction_leaf=0.0, max_features='auto', max_leaf_nodes=None, min_impurity_decrease=0.0, min_impurity_split=None, bootstrap=True, oob_score=False, n_jobs=None, random_state=None, verbose=0, warm_start=False)\n",
    "\n",
    "from sklearn.model_selection import GridSearchCV"
   ]
  },
  {
   "cell_type": "code",
   "execution_count": 10,
   "metadata": {},
   "outputs": [],
   "source": [
    "from sklearn.metrics import mean_squared_error, r2_score\n",
    "from timeit import default_timer as timer\n",
    "\n",
    "def full_RFRAnalyzer(X, X_test, y, y_test):\n",
    "    start = timer()\n",
    "\n",
    "    param_grid = [\n",
    "        # try 2 (2) combinations of hyperparameters\n",
    "        {'n_estimators': [200, 250]},\n",
    "        ]\n",
    "\n",
    "    rf_reg = RandomForestRegressor(criterion='mse', max_depth=None, min_samples_split=2, min_samples_leaf=1, min_weight_fraction_leaf=0.0, max_features='auto', max_leaf_nodes=200, min_impurity_decrease=0.0, min_impurity_split=None, bootstrap=True, oob_score=False, n_jobs=None, random_state=None, verbose=0, warm_start=False)\n",
    "\n",
    "    # train across 5 folds, that's a total of 2*5=10 rounds of training \n",
    "    grid_search = GridSearchCV(rf_reg, param_grid, cv=5,\n",
    "                               scoring='neg_mean_squared_error',\n",
    "                               return_train_score=True)\n",
    "    grid_search.fit(X, y)\n",
    "    end = timer()\n",
    "    grid_best_est=grid_search.best_estimator_\n",
    "    print('Best estimator: '+str(grid_best_est))\n",
    "    print('Best params: %s'%grid_search.best_params_)\n",
    "    print('---------------------------------------------------------------------')\n",
    "    cvres = grid_search.cv_results_\n",
    "    for mean_score, params in zip(cvres[\"mean_test_score\"], cvres[\"params\"]):\n",
    "        print(np.sqrt(-mean_score), params)\n",
    "\n",
    "    print('---------------------------------------------------------------------')\n",
    "    results_display(grid_best_est, X, X_test, y, y_test)\n",
    "    print('Full time consumption [s]: ', round((end - start),3))\n",
    "    print('---------------------------------------------------------------------')"
   ]
  },
  {
   "cell_type": "code",
   "execution_count": 11,
   "metadata": {},
   "outputs": [
    {
     "name": "stderr",
     "output_type": "stream",
     "text": [
      "/opt/conda/lib/python3.7/site-packages/sklearn/model_selection/_validation.py:516: DataConversionWarning: A column-vector y was passed when a 1d array was expected. Please change the shape of y to (n_samples,), for example using ravel().\n",
      "  estimator.fit(X_train, y_train, **fit_params)\n",
      "/opt/conda/lib/python3.7/site-packages/sklearn/model_selection/_validation.py:516: DataConversionWarning: A column-vector y was passed when a 1d array was expected. Please change the shape of y to (n_samples,), for example using ravel().\n",
      "  estimator.fit(X_train, y_train, **fit_params)\n",
      "/opt/conda/lib/python3.7/site-packages/sklearn/model_selection/_validation.py:516: DataConversionWarning: A column-vector y was passed when a 1d array was expected. Please change the shape of y to (n_samples,), for example using ravel().\n",
      "  estimator.fit(X_train, y_train, **fit_params)\n",
      "/opt/conda/lib/python3.7/site-packages/sklearn/model_selection/_validation.py:516: DataConversionWarning: A column-vector y was passed when a 1d array was expected. Please change the shape of y to (n_samples,), for example using ravel().\n",
      "  estimator.fit(X_train, y_train, **fit_params)\n",
      "/opt/conda/lib/python3.7/site-packages/sklearn/model_selection/_validation.py:516: DataConversionWarning: A column-vector y was passed when a 1d array was expected. Please change the shape of y to (n_samples,), for example using ravel().\n",
      "  estimator.fit(X_train, y_train, **fit_params)\n",
      "/opt/conda/lib/python3.7/site-packages/sklearn/model_selection/_validation.py:516: DataConversionWarning: A column-vector y was passed when a 1d array was expected. Please change the shape of y to (n_samples,), for example using ravel().\n",
      "  estimator.fit(X_train, y_train, **fit_params)\n",
      "/opt/conda/lib/python3.7/site-packages/sklearn/model_selection/_validation.py:516: DataConversionWarning: A column-vector y was passed when a 1d array was expected. Please change the shape of y to (n_samples,), for example using ravel().\n",
      "  estimator.fit(X_train, y_train, **fit_params)\n",
      "/opt/conda/lib/python3.7/site-packages/sklearn/model_selection/_validation.py:516: DataConversionWarning: A column-vector y was passed when a 1d array was expected. Please change the shape of y to (n_samples,), for example using ravel().\n",
      "  estimator.fit(X_train, y_train, **fit_params)\n",
      "/opt/conda/lib/python3.7/site-packages/sklearn/model_selection/_validation.py:516: DataConversionWarning: A column-vector y was passed when a 1d array was expected. Please change the shape of y to (n_samples,), for example using ravel().\n",
      "  estimator.fit(X_train, y_train, **fit_params)\n",
      "/opt/conda/lib/python3.7/site-packages/sklearn/model_selection/_validation.py:516: DataConversionWarning: A column-vector y was passed when a 1d array was expected. Please change the shape of y to (n_samples,), for example using ravel().\n",
      "  estimator.fit(X_train, y_train, **fit_params)\n",
      "/opt/conda/lib/python3.7/site-packages/sklearn/model_selection/_search.py:715: DataConversionWarning: A column-vector y was passed when a 1d array was expected. Please change the shape of y to (n_samples,), for example using ravel().\n",
      "  self.best_estimator_.fit(X, y, **fit_params)\n"
     ]
    },
    {
     "name": "stdout",
     "output_type": "stream",
     "text": [
      "Best estimator: RandomForestRegressor(bootstrap=True, criterion='mse', max_depth=None,\n",
      "                      max_features='auto', max_leaf_nodes=200,\n",
      "                      min_impurity_decrease=0.0, min_impurity_split=None,\n",
      "                      min_samples_leaf=1, min_samples_split=2,\n",
      "                      min_weight_fraction_leaf=0.0, n_estimators=250,\n",
      "                      n_jobs=None, oob_score=False, random_state=None,\n",
      "                      verbose=0, warm_start=False)\n",
      "Best params: {'n_estimators': 250}\n",
      "---------------------------------------------------------------------\n",
      "12.76351256753736 {'n_estimators': 200}\n",
      "12.754029926993157 {'n_estimators': 250}\n",
      "---------------------------------------------------------------------\n"
     ]
    },
    {
     "name": "stderr",
     "output_type": "stream",
     "text": [
      "/opt/conda/lib/python3.7/site-packages/ipykernel_launcher.py:5: DataConversionWarning: A column-vector y was passed when a 1d array was expected. Please change the shape of y to (n_samples,), for example using ravel().\n",
      "  \"\"\"\n"
     ]
    },
    {
     "name": "stdout",
     "output_type": "stream",
     "text": [
      "RandomForestRegressor(bootstrap=True, criterion='mse', max_depth=None,\n",
      "                      max_features='auto', max_leaf_nodes=200,\n",
      "                      min_impurity_decrease=0.0, min_impurity_split=None,\n",
      "                      min_samples_leaf=1, min_samples_split=2,\n",
      "                      min_weight_fraction_leaf=0.0, n_estimators=250,\n",
      "                      n_jobs=None, oob_score=False, random_state=None,\n",
      "                      verbose=0, warm_start=False)\n",
      "Train set: Regressor name, RMSE, R2\n",
      "RandomForestRegressor 11.19 0.878\n",
      "Test set: Regressor name, RMSE, R2\n",
      "RandomForestRegressor 13.425 0.822\n",
      "Time consumption [s]:  106.486\n",
      "---------------------------------------------------------\n",
      "Full time consumption [s]:  873.335\n",
      "---------------------------------------------------------------------\n"
     ]
    }
   ],
   "source": [
    "full_RFRAnalyzer(X, X_test, y, y_test)"
   ]
  },
  {
   "cell_type": "markdown",
   "metadata": {},
   "source": [
    "##### observations:\n",
    "- we have 95 features\n",
    "- Best params: {'n_estimators': 200}\n",
    "- the DecissionTreeRegressor shows R2-scores of ~88% on training set and ~82% on test set\n",
    "- grid search time consumption is ~850s on ThinkPad Core i7 (570s on ThinkPad Centrino2VPro)"
   ]
  },
  {
   "cell_type": "markdown",
   "metadata": {},
   "source": [
    "safe:\n",
    "- Best estimator: RandomForestRegressor(bootstrap=True, criterion='mse', max_depth=None,\n",
    "                      max_features='auto', max_leaf_nodes=200,\n",
    "                      min_impurity_decrease=0.0, min_impurity_split=None,\n",
    "                      min_samples_leaf=1, min_samples_split=2,\n",
    "                      min_weight_fraction_leaf=0.0, n_estimators=200,\n",
    "                      n_jobs=None, oob_score=False, random_state=4711,\n",
    "                      verbose=0, warm_start=False)\n",
    "Best params: {'max_leaf_nodes': 200, 'min_samples_leaf': 1, 'n_estimators': 200}\n",
    "---------------------------------------------------------------------\n",
    "- 13.24650953308163 {'max_leaf_nodes': 100, 'min_samples_leaf': 1, 'n_estimators': 100}\n",
    "- 13.2426682548123 {'max_leaf_nodes': 100, 'min_samples_leaf': 1, 'n_estimators': 150}\n",
    "- 13.241840862884384 {'max_leaf_nodes': 100, 'min_samples_leaf': 1, 'n_estimators': 200}\n",
    "- 13.253163703441334 {'max_leaf_nodes': 100, 'min_samples_leaf': 2, 'n_estimators': 100}\n",
    "- 13.249531588783409 {'max_leaf_nodes': 100, 'min_samples_leaf': 2, 'n_estimators': 150}\n",
    "- 13.249241448903392 {'max_leaf_nodes': 100, 'min_samples_leaf': 2, 'n_estimators': 200}\n",
    "- 13.273605006502125 {'max_leaf_nodes': 100, 'min_samples_leaf': 3, 'n_estimators': 100}\n",
    "- 13.270479570956565 {'max_leaf_nodes': 100, 'min_samples_leaf': 3, 'n_estimators': 150}\n",
    "- 13.270030609105183 {'max_leaf_nodes': 100, 'min_samples_leaf': 3, 'n_estimators': 200}\n",
    "- 12.76346153740275 {'max_leaf_nodes': 200, 'min_samples_leaf': 1, 'n_estimators': 100}\n",
    "- 12.761295295827606 {'max_leaf_nodes': 200, 'min_samples_leaf': 1, 'n_estimators': 150}\n",
    "- 12.758880255463852 {'max_leaf_nodes': 200, 'min_samples_leaf': 1, 'n_estimators': 200}\n",
    "- 12.780493588445914 {'max_leaf_nodes': 200, 'min_samples_leaf': 2, 'n_estimators': 100}\n",
    "- 12.778105550888043 {'max_leaf_nodes': 200, 'min_samples_leaf': 2, 'n_estimators': 150}\n",
    "- 12.77484063359507 {'max_leaf_nodes': 200, 'min_samples_leaf': 2, 'n_estimators': 200}\n",
    "- 12.815243130495576 {'max_leaf_nodes': 200, 'min_samples_leaf': 3, 'n_estimators': 100}\n",
    "- 12.811915082461637 {'max_leaf_nodes': 200, 'min_samples_leaf': 3, 'n_estimators': 150}\n",
    "12.810060331505648 {'max_leaf_nodes': 200, 'min_samples_leaf': 3, 'n_estimators': 200}\n",
    "---------------------------------------------------------------------\n",
    "\n",
    "\n",
    "RandomForestRegressor(bootstrap=True, criterion='mse', max_depth=None,\n",
    "                      max_features='auto', max_leaf_nodes=200,\n",
    "                      min_impurity_decrease=0.0, min_impurity_split=None,\n",
    "                      min_samples_leaf=1, min_samples_split=2,\n",
    "                      min_weight_fraction_leaf=0.0, n_estimators=200,\n",
    "                      n_jobs=None, oob_score=False, random_state=4711,\n",
    "                      verbose=0, warm_start=False)\n",
    "- Train set: Regressor name, RMSE, R2\n",
    "- RandomForestRegressor 11.193 0.878\n",
    "- Test set: Regressor name, RMSE, R2\n",
    "- RandomForestRegressor 13.407 0.823\n",
    "\n",
    "Time consumption [s]:  85.208\n",
    "---------------------------------------------------------\n",
    "Full time consumption [s]:  4436.189\n",
    "---------------------------------------------------------------------\n"
   ]
  },
  {
   "cell_type": "markdown",
   "metadata": {},
   "source": []
  },
  {
   "cell_type": "markdown",
   "metadata": {},
   "source": [
    "### Try a adaboost decission tree"
   ]
  },
  {
   "cell_type": "code",
   "execution_count": 12,
   "metadata": {},
   "outputs": [],
   "source": [
    "from sklearn.tree import DecisionTreeRegressor\n",
    "base_dec = DecisionTreeRegressor(criterion='mse', splitter='best', max_depth=None, min_samples_split=2, \n",
    "                                 min_samples_leaf=1, min_weight_fraction_leaf=0.0, max_features=None, \n",
    "                                 random_state=None, max_leaf_nodes=None, min_impurity_decrease=0.0, \n",
    "                                 min_impurity_split=None, presort='deprecated')\n",
    "\n",
    "rng = np.random.RandomState(4711)"
   ]
  },
  {
   "cell_type": "code",
   "execution_count": 13,
   "metadata": {},
   "outputs": [],
   "source": [
    "from sklearn.tree import plot_tree\n",
    "def full_DTAnalyzer(X, X_test, y, y_test):\n",
    "    start = timer()\n",
    "\n",
    "    param_grid = [\n",
    "        # try 4 (4) combinations of hyperparameters\n",
    "        {'max_depth': [3, 4, 6, 9]},\n",
    "        ]\n",
    "\n",
    "    dt_reg = DecisionTreeRegressor(criterion='mse', splitter='best', min_samples_split=2, \n",
    "                                 min_samples_leaf=1, min_weight_fraction_leaf=0.0, max_features=None, \n",
    "                                 random_state=None, max_leaf_nodes=None, min_impurity_decrease=0.0, \n",
    "                                 min_impurity_split=None)\n",
    "\n",
    "    # train across 5 folds, that's a total of 4*5=20 rounds of training \n",
    "    grid_search = GridSearchCV(dt_reg, param_grid, cv=5,\n",
    "                               scoring='neg_mean_squared_error',\n",
    "                               return_train_score=True)\n",
    "    grid_search.fit(X, y)\n",
    "    end = timer()\n",
    "    grid_best_est=grid_search.best_estimator_\n",
    "    print('Best estimator: '+str(grid_best_est))\n",
    "    print('Best params: %s'%grid_search.best_params_)\n",
    "    print('---------------------------------------------------------------------')\n",
    "    cvres = grid_search.cv_results_\n",
    "    for mean_score, params in zip(cvres[\"mean_test_score\"], cvres[\"params\"]):\n",
    "        print(np.sqrt(-mean_score), params)\n",
    "\n",
    "    print('---------------------------------------------------------------------')\n",
    "    results_display(grid_best_est, X, X_test, y, y_test)\n",
    "    print('Full time consumption [s]: ', round((end - start),3))\n",
    "    print('---------------------------------------------------------------------')\n",
    "    plot_tree(DecisionTreeRegressor(criterion='mse', splitter='best', max_depth=3, min_samples_split=2, \n",
    "                                 min_samples_leaf=1, min_weight_fraction_leaf=0.0, max_features=None, \n",
    "                                 random_state=None, max_leaf_nodes=None, min_impurity_decrease=0.0, \n",
    "                                 min_impurity_split=None).fit(X,y))"
   ]
  },
  {
   "cell_type": "code",
   "execution_count": 14,
   "metadata": {},
   "outputs": [
    {
     "name": "stdout",
     "output_type": "stream",
     "text": [
      "Best estimator: DecisionTreeRegressor(criterion='mse', max_depth=9, max_features=None,\n",
      "                      max_leaf_nodes=None, min_impurity_decrease=0.0,\n",
      "                      min_impurity_split=None, min_samples_leaf=1,\n",
      "                      min_samples_split=2, min_weight_fraction_leaf=0.0,\n",
      "                      presort=False, random_state=None, splitter='best')\n",
      "Best params: {'max_depth': 9}\n",
      "---------------------------------------------------------------------\n",
      "17.49436393832211 {'max_depth': 3}\n",
      "16.434928354088665 {'max_depth': 4}\n",
      "14.723942975441238 {'max_depth': 6}\n",
      "13.985049538545008 {'max_depth': 9}\n",
      "---------------------------------------------------------------------\n",
      "DecisionTreeRegressor(criterion='mse', max_depth=9, max_features=None,\n",
      "                      max_leaf_nodes=None, min_impurity_decrease=0.0,\n",
      "                      min_impurity_split=None, min_samples_leaf=1,\n",
      "                      min_samples_split=2, min_weight_fraction_leaf=0.0,\n",
      "                      presort=False, random_state=None, splitter='best')\n",
      "Train set: Regressor name, RMSE, R2\n",
      "DecisionTreeRegressor 12.038 0.858\n",
      "Test set: Regressor name, RMSE, R2\n",
      "DecisionTreeRegressor 14.935 0.78\n",
      "Time consumption [s]:  0.54\n",
      "---------------------------------------------------------\n",
      "Full time consumption [s]:  6.484\n",
      "---------------------------------------------------------------------\n"
     ]
    },
    {
     "data": {
      "image/png": "[encoded data removed]",
      "text/plain": [
       "<Figure size 432x288 with 1 Axes>"
      ]
     },
     "metadata": {
      "needs_background": "light"
     },
     "output_type": "display_data"
    }
   ],
   "source": [
    "full_DTAnalyzer(X, X_test, y, y_test)"
   ]
  },
  {
   "cell_type": "code",
   "execution_count": 15,
   "metadata": {},
   "outputs": [],
   "source": [
    "from sklearn.ensemble import AdaBoostRegressor\n",
    "def full_DTAdaAnalyzer(X, X_test, y, y_test):\n",
    "    start = timer()\n",
    "\n",
    "    param_grid = [\n",
    "        # try 4 (4) combinations of hyperparameters\n",
    "        {'n_estimators': [100, 200, 300, 400]},\n",
    "        ]\n",
    "\n",
    "    ada_reg = AdaBoostRegressor(DecisionTreeRegressor(criterion='mse', splitter='best', max_depth=3, \n",
    "                                                     min_samples_split=2, min_samples_leaf=1, \n",
    "                                                     min_weight_fraction_leaf=0.0, max_features=None, \n",
    "                                                     random_state=None, max_leaf_nodes=None, min_impurity_decrease=0.0, \n",
    "                                                     min_impurity_split=None), \n",
    "                                random_state=rng)\n",
    "\n",
    "    # train across 5 folds, that's a total of 4*5=20 rounds of training \n",
    "    grid_search = GridSearchCV(ada_reg, param_grid, cv=5,\n",
    "                               scoring='neg_mean_squared_error',\n",
    "                               return_train_score=True)\n",
    "    grid_search.fit(X, y)\n",
    "    end = timer()\n",
    "    grid_best_est=grid_search.best_estimator_\n",
    "    print('Best estimator: '+str(grid_best_est))\n",
    "    print('Best params: %s'%grid_search.best_params_)\n",
    "    print('---------------------------------------------------------------------')\n",
    "    cvres = grid_search.cv_results_\n",
    "    for mean_score, params in zip(cvres[\"mean_test_score\"], cvres[\"params\"]):\n",
    "        print(np.sqrt(-mean_score), params)\n",
    "\n",
    "    print('---------------------------------------------------------------------')\n",
    "    results_display(grid_best_est, X, X_test, y, y_test)\n",
    "    print('Full time consumption [s]: ', round((end - start),3))\n",
    "    print('---------------------------------------------------------------------')"
   ]
  },
  {
   "cell_type": "code",
   "execution_count": 16,
   "metadata": {},
   "outputs": [
    {
     "name": "stderr",
     "output_type": "stream",
     "text": [
      "/opt/conda/lib/python3.7/site-packages/sklearn/utils/validation.py:724: DataConversionWarning: A column-vector y was passed when a 1d array was expected. Please change the shape of y to (n_samples, ), for example using ravel().\n",
      "  y = column_or_1d(y, warn=True)\n",
      "/opt/conda/lib/python3.7/site-packages/sklearn/utils/validation.py:724: DataConversionWarning: A column-vector y was passed when a 1d array was expected. Please change the shape of y to (n_samples, ), for example using ravel().\n",
      "  y = column_or_1d(y, warn=True)\n",
      "/opt/conda/lib/python3.7/site-packages/sklearn/utils/validation.py:724: DataConversionWarning: A column-vector y was passed when a 1d array was expected. Please change the shape of y to (n_samples, ), for example using ravel().\n",
      "  y = column_or_1d(y, warn=True)\n",
      "/opt/conda/lib/python3.7/site-packages/sklearn/utils/validation.py:724: DataConversionWarning: A column-vector y was passed when a 1d array was expected. Please change the shape of y to (n_samples, ), for example using ravel().\n",
      "  y = column_or_1d(y, warn=True)\n",
      "/opt/conda/lib/python3.7/site-packages/sklearn/utils/validation.py:724: DataConversionWarning: A column-vector y was passed when a 1d array was expected. Please change the shape of y to (n_samples, ), for example using ravel().\n",
      "  y = column_or_1d(y, warn=True)\n",
      "/opt/conda/lib/python3.7/site-packages/sklearn/utils/validation.py:724: DataConversionWarning: A column-vector y was passed when a 1d array was expected. Please change the shape of y to (n_samples, ), for example using ravel().\n",
      "  y = column_or_1d(y, warn=True)\n",
      "/opt/conda/lib/python3.7/site-packages/sklearn/utils/validation.py:724: DataConversionWarning: A column-vector y was passed when a 1d array was expected. Please change the shape of y to (n_samples, ), for example using ravel().\n",
      "  y = column_or_1d(y, warn=True)\n",
      "/opt/conda/lib/python3.7/site-packages/sklearn/utils/validation.py:724: DataConversionWarning: A column-vector y was passed when a 1d array was expected. Please change the shape of y to (n_samples, ), for example using ravel().\n",
      "  y = column_or_1d(y, warn=True)\n",
      "/opt/conda/lib/python3.7/site-packages/sklearn/utils/validation.py:724: DataConversionWarning: A column-vector y was passed when a 1d array was expected. Please change the shape of y to (n_samples, ), for example using ravel().\n",
      "  y = column_or_1d(y, warn=True)\n",
      "/opt/conda/lib/python3.7/site-packages/sklearn/utils/validation.py:724: DataConversionWarning: A column-vector y was passed when a 1d array was expected. Please change the shape of y to (n_samples, ), for example using ravel().\n",
      "  y = column_or_1d(y, warn=True)\n",
      "/opt/conda/lib/python3.7/site-packages/sklearn/utils/validation.py:724: DataConversionWarning: A column-vector y was passed when a 1d array was expected. Please change the shape of y to (n_samples, ), for example using ravel().\n",
      "  y = column_or_1d(y, warn=True)\n",
      "/opt/conda/lib/python3.7/site-packages/sklearn/utils/validation.py:724: DataConversionWarning: A column-vector y was passed when a 1d array was expected. Please change the shape of y to (n_samples, ), for example using ravel().\n",
      "  y = column_or_1d(y, warn=True)\n",
      "/opt/conda/lib/python3.7/site-packages/sklearn/utils/validation.py:724: DataConversionWarning: A column-vector y was passed when a 1d array was expected. Please change the shape of y to (n_samples, ), for example using ravel().\n",
      "  y = column_or_1d(y, warn=True)\n",
      "/opt/conda/lib/python3.7/site-packages/sklearn/utils/validation.py:724: DataConversionWarning: A column-vector y was passed when a 1d array was expected. Please change the shape of y to (n_samples, ), for example using ravel().\n",
      "  y = column_or_1d(y, warn=True)\n",
      "/opt/conda/lib/python3.7/site-packages/sklearn/utils/validation.py:724: DataConversionWarning: A column-vector y was passed when a 1d array was expected. Please change the shape of y to (n_samples, ), for example using ravel().\n",
      "  y = column_or_1d(y, warn=True)\n",
      "/opt/conda/lib/python3.7/site-packages/sklearn/utils/validation.py:724: DataConversionWarning: A column-vector y was passed when a 1d array was expected. Please change the shape of y to (n_samples, ), for example using ravel().\n",
      "  y = column_or_1d(y, warn=True)\n",
      "/opt/conda/lib/python3.7/site-packages/sklearn/utils/validation.py:724: DataConversionWarning: A column-vector y was passed when a 1d array was expected. Please change the shape of y to (n_samples, ), for example using ravel().\n",
      "  y = column_or_1d(y, warn=True)\n",
      "/opt/conda/lib/python3.7/site-packages/sklearn/utils/validation.py:724: DataConversionWarning: A column-vector y was passed when a 1d array was expected. Please change the shape of y to (n_samples, ), for example using ravel().\n",
      "  y = column_or_1d(y, warn=True)\n",
      "/opt/conda/lib/python3.7/site-packages/sklearn/utils/validation.py:724: DataConversionWarning: A column-vector y was passed when a 1d array was expected. Please change the shape of y to (n_samples, ), for example using ravel().\n",
      "  y = column_or_1d(y, warn=True)\n",
      "/opt/conda/lib/python3.7/site-packages/sklearn/utils/validation.py:724: DataConversionWarning: A column-vector y was passed when a 1d array was expected. Please change the shape of y to (n_samples, ), for example using ravel().\n",
      "  y = column_or_1d(y, warn=True)\n",
      "/opt/conda/lib/python3.7/site-packages/sklearn/utils/validation.py:724: DataConversionWarning: A column-vector y was passed when a 1d array was expected. Please change the shape of y to (n_samples, ), for example using ravel().\n",
      "  y = column_or_1d(y, warn=True)\n"
     ]
    },
    {
     "name": "stdout",
     "output_type": "stream",
     "text": [
      "Best estimator: AdaBoostRegressor(base_estimator=DecisionTreeRegressor(criterion='mse',\n",
      "                                                       max_depth=3,\n",
      "                                                       max_features=None,\n",
      "                                                       max_leaf_nodes=None,\n",
      "                                                       min_impurity_decrease=0.0,\n",
      "                                                       min_impurity_split=None,\n",
      "                                                       min_samples_leaf=1,\n",
      "                                                       min_samples_split=2,\n",
      "                                                       min_weight_fraction_leaf=0.0,\n",
      "                                                       presort=False,\n",
      "                                                       random_state=None,\n",
      "                                                       splitter='best'),\n",
      "                  learning_rate=1.0, loss='linear', n_estimators=100,\n",
      "                  random_state=RandomState(MT19937) at 0x7FD560CB08D0)\n",
      "Best params: {'n_estimators': 100}\n",
      "---------------------------------------------------------------------\n",
      "17.717376277677246 {'n_estimators': 100}\n",
      "17.717376277677246 {'n_estimators': 200}\n",
      "17.717376277677246 {'n_estimators': 300}\n",
      "17.717376277677246 {'n_estimators': 400}\n",
      "---------------------------------------------------------------------\n"
     ]
    },
    {
     "name": "stderr",
     "output_type": "stream",
     "text": [
      "/opt/conda/lib/python3.7/site-packages/sklearn/utils/validation.py:724: DataConversionWarning: A column-vector y was passed when a 1d array was expected. Please change the shape of y to (n_samples, ), for example using ravel().\n",
      "  y = column_or_1d(y, warn=True)\n"
     ]
    },
    {
     "name": "stdout",
     "output_type": "stream",
     "text": [
      "AdaBoostRegressor(base_estimator=DecisionTreeRegressor(criterion='mse',\n",
      "                                                       max_depth=3,\n",
      "                                                       max_features=None,\n",
      "                                                       max_leaf_nodes=None,\n",
      "                                                       min_impurity_decrease=0.0,\n",
      "                                                       min_impurity_split=None,\n",
      "                                                       min_samples_leaf=1,\n",
      "                                                       min_samples_split=2,\n",
      "                                                       min_weight_fraction_leaf=0.0,\n",
      "                                                       presort=False,\n",
      "                                                       random_state=None,\n",
      "                                                       splitter='best'),\n",
      "                  learning_rate=1.0, loss='linear', n_estimators=100,\n",
      "                  random_state=RandomState(MT19937) at 0x7FD560CB08D0)\n",
      "Train set: Regressor name, RMSE, R2\n",
      "AdaBoostRegressor 17.218 0.71\n",
      "Test set: Regressor name, RMSE, R2\n",
      "AdaBoostRegressor 17.509 0.698\n",
      "Time consumption [s]:  2.913\n",
      "---------------------------------------------------------\n",
      "Full time consumption [s]:  71.008\n",
      "---------------------------------------------------------------------\n"
     ]
    }
   ],
   "source": [
    "full_DTAdaAnalyzer(X, X_test, y, y_test)"
   ]
  }
 ],
 "metadata": {
  "kernelspec": {
   "display_name": "Python 3",
   "language": "python",
   "name": "python3"
  },
  "language_info": {
   "codemirror_mode": {
    "name": "ipython",
    "version": 3
   },
   "file_extension": ".py",
   "mimetype": "text/x-python",
   "name": "python",
   "nbconvert_exporter": "python",
   "pygments_lexer": "ipython3",
   "version": "3.7.6"
  }
 },
 "nbformat": 4,
 "nbformat_minor": 2
}
